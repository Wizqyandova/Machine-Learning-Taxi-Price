{
 "cells": [
  {
   "cell_type": "code",
   "execution_count": 1,
   "id": "94122346-3c07-4c32-a7c3-9c9268b2f199",
   "metadata": {},
   "outputs": [],
   "source": [
    "import pandas as pd\n",
    "import numpy as np\n",
    "import matplotlib.pyplot as plt\n",
    "import seaborn as sns\n",
    "\n",
    "import warnings\n",
    "warnings.filterwarnings('ignore')"
   ]
  },
  {
   "cell_type": "code",
   "execution_count": 2,
   "id": "d8b43f96-a08b-4f85-9a06-a07285b7d37a",
   "metadata": {},
   "outputs": [
    {
     "data": {
      "text/html": [
       "<div>\n",
       "<style scoped>\n",
       "    .dataframe tbody tr th:only-of-type {\n",
       "        vertical-align: middle;\n",
       "    }\n",
       "\n",
       "    .dataframe tbody tr th {\n",
       "        vertical-align: top;\n",
       "    }\n",
       "\n",
       "    .dataframe thead th {\n",
       "        text-align: right;\n",
       "    }\n",
       "</style>\n",
       "<table border=\"1\" class=\"dataframe\">\n",
       "  <thead>\n",
       "    <tr style=\"text-align: right;\">\n",
       "      <th></th>\n",
       "      <th>fare_amount</th>\n",
       "      <th>pickup_datetime</th>\n",
       "      <th>pickup_longitude</th>\n",
       "      <th>pickup_latitude</th>\n",
       "      <th>dropoff_longitude</th>\n",
       "      <th>dropoff_latitude</th>\n",
       "      <th>passenger_count</th>\n",
       "    </tr>\n",
       "  </thead>\n",
       "  <tbody>\n",
       "    <tr>\n",
       "      <th>0</th>\n",
       "      <td>4.5</td>\n",
       "      <td>2009-06-15 17:26:21</td>\n",
       "      <td>-73.844311</td>\n",
       "      <td>40.721319</td>\n",
       "      <td>-73.841610</td>\n",
       "      <td>40.712278</td>\n",
       "      <td>1.0</td>\n",
       "    </tr>\n",
       "    <tr>\n",
       "      <th>1</th>\n",
       "      <td>16.9</td>\n",
       "      <td>2010-01-05 16:52:16</td>\n",
       "      <td>-74.016048</td>\n",
       "      <td>40.711303</td>\n",
       "      <td>-73.979268</td>\n",
       "      <td>40.782004</td>\n",
       "      <td>1.0</td>\n",
       "    </tr>\n",
       "    <tr>\n",
       "      <th>2</th>\n",
       "      <td>5.7</td>\n",
       "      <td>2011-08-18 00:35:00</td>\n",
       "      <td>-73.982738</td>\n",
       "      <td>40.761270</td>\n",
       "      <td>-73.991242</td>\n",
       "      <td>40.750562</td>\n",
       "      <td>2.0</td>\n",
       "    </tr>\n",
       "    <tr>\n",
       "      <th>3</th>\n",
       "      <td>7.7</td>\n",
       "      <td>2012-04-21 04:30:42</td>\n",
       "      <td>-73.987130</td>\n",
       "      <td>40.733143</td>\n",
       "      <td>-73.991567</td>\n",
       "      <td>40.758092</td>\n",
       "      <td>1.0</td>\n",
       "    </tr>\n",
       "    <tr>\n",
       "      <th>4</th>\n",
       "      <td>5.3</td>\n",
       "      <td>2010-03-09 07:51:00</td>\n",
       "      <td>-73.968095</td>\n",
       "      <td>40.768008</td>\n",
       "      <td>-73.956655</td>\n",
       "      <td>40.783762</td>\n",
       "      <td>1.0</td>\n",
       "    </tr>\n",
       "  </tbody>\n",
       "</table>\n",
       "</div>"
      ],
      "text/plain": [
       "   fare_amount      pickup_datetime  pickup_longitude  pickup_latitude  \\\n",
       "0          4.5  2009-06-15 17:26:21        -73.844311        40.721319   \n",
       "1         16.9  2010-01-05 16:52:16        -74.016048        40.711303   \n",
       "2          5.7  2011-08-18 00:35:00        -73.982738        40.761270   \n",
       "3          7.7  2012-04-21 04:30:42        -73.987130        40.733143   \n",
       "4          5.3  2010-03-09 07:51:00        -73.968095        40.768008   \n",
       "\n",
       "   dropoff_longitude  dropoff_latitude  passenger_count  \n",
       "0         -73.841610         40.712278              1.0  \n",
       "1         -73.979268         40.782004              1.0  \n",
       "2         -73.991242         40.750562              2.0  \n",
       "3         -73.991567         40.758092              1.0  \n",
       "4         -73.956655         40.783762              1.0  "
      ]
     },
     "execution_count": 2,
     "metadata": {},
     "output_type": "execute_result"
    }
   ],
   "source": [
    "df = pd.read_csv('taxi.csv')\n",
    "df.head()"
   ]
  },
  {
   "cell_type": "code",
   "execution_count": 3,
   "id": "1e9f93f6-c9cc-4717-9e35-1b0e4db98fe5",
   "metadata": {},
   "outputs": [],
   "source": [
    "## Check Summary Info"
   ]
  },
  {
   "cell_type": "code",
   "execution_count": 4,
   "id": "e1abd299-2580-473a-9dcf-446810808bcc",
   "metadata": {},
   "outputs": [
    {
     "name": "stdout",
     "output_type": "stream",
     "text": [
      "<class 'pandas.core.frame.DataFrame'>\n",
      "RangeIndex: 18919 entries, 0 to 18918\n",
      "Data columns (total 7 columns):\n",
      " #   Column             Non-Null Count  Dtype  \n",
      "---  ------             --------------  -----  \n",
      " 0   fare_amount        18919 non-null  float64\n",
      " 1   pickup_datetime    18919 non-null  object \n",
      " 2   pickup_longitude   18919 non-null  float64\n",
      " 3   pickup_latitude    18919 non-null  float64\n",
      " 4   dropoff_longitude  18919 non-null  float64\n",
      " 5   dropoff_latitude   18919 non-null  float64\n",
      " 6   passenger_count    18918 non-null  float64\n",
      "dtypes: float64(6), object(1)\n",
      "memory usage: 1.0+ MB\n"
     ]
    }
   ],
   "source": [
    "df.info()"
   ]
  },
  {
   "cell_type": "code",
   "execution_count": 5,
   "id": "4b91658a-4256-48b0-919a-f765a62b3f27",
   "metadata": {},
   "outputs": [],
   "source": [
    "## Check Missing Value"
   ]
  },
  {
   "cell_type": "code",
   "execution_count": 6,
   "id": "897f6f50-7a4b-4187-8037-206292ee2ced",
   "metadata": {},
   "outputs": [
    {
     "data": {
      "text/plain": [
       "fare_amount          0\n",
       "pickup_datetime      0\n",
       "pickup_longitude     0\n",
       "pickup_latitude      0\n",
       "dropoff_longitude    0\n",
       "dropoff_latitude     0\n",
       "passenger_count      1\n",
       "dtype: int64"
      ]
     },
     "execution_count": 6,
     "metadata": {},
     "output_type": "execute_result"
    }
   ],
   "source": [
    "df.isna().sum()"
   ]
  },
  {
   "cell_type": "code",
   "execution_count": 7,
   "id": "f7e53158-cdef-4667-8186-227f66ac8455",
   "metadata": {},
   "outputs": [],
   "source": [
    "### Handling Missing Value"
   ]
  },
  {
   "cell_type": "code",
   "execution_count": 8,
   "id": "fc0629fc-ad20-4bc1-804b-4c15ba9fcd00",
   "metadata": {},
   "outputs": [],
   "source": [
    "df.dropna(inplace=True)"
   ]
  },
  {
   "cell_type": "code",
   "execution_count": 9,
   "id": "ed3ff91c-3825-432e-9b04-47753ada0932",
   "metadata": {},
   "outputs": [],
   "source": [
    "## Check DataTypes"
   ]
  },
  {
   "cell_type": "code",
   "execution_count": 10,
   "id": "b9b89b43-ca31-453d-8e7c-853ef3fe5463",
   "metadata": {},
   "outputs": [
    {
     "data": {
      "text/plain": [
       "fare_amount          float64\n",
       "pickup_datetime       object\n",
       "pickup_longitude     float64\n",
       "pickup_latitude      float64\n",
       "dropoff_longitude    float64\n",
       "dropoff_latitude     float64\n",
       "passenger_count      float64\n",
       "dtype: object"
      ]
     },
     "execution_count": 10,
     "metadata": {},
     "output_type": "execute_result"
    }
   ],
   "source": [
    "df.dtypes"
   ]
  },
  {
   "cell_type": "code",
   "execution_count": 11,
   "id": "a716ab2e-7cc4-40a1-b7b5-efe526a7ff16",
   "metadata": {},
   "outputs": [],
   "source": [
    "## Data Types Conversion"
   ]
  },
  {
   "cell_type": "code",
   "execution_count": 12,
   "id": "e7ceabc4-34d3-4ad1-a685-e1bebeca7f4f",
   "metadata": {},
   "outputs": [],
   "source": [
    "df['pickup_datetime'] = pd.to_datetime(df['pickup_datetime'])"
   ]
  },
  {
   "cell_type": "code",
   "execution_count": 13,
   "id": "fdb58869-51bb-450b-8440-b20ec3d1bdeb",
   "metadata": {},
   "outputs": [
    {
     "data": {
      "text/plain": [
       "fare_amount                 float64\n",
       "pickup_datetime      datetime64[ns]\n",
       "pickup_longitude            float64\n",
       "pickup_latitude             float64\n",
       "dropoff_longitude           float64\n",
       "dropoff_latitude            float64\n",
       "passenger_count             float64\n",
       "dtype: object"
      ]
     },
     "execution_count": 13,
     "metadata": {},
     "output_type": "execute_result"
    }
   ],
   "source": [
    "df.dtypes"
   ]
  },
  {
   "cell_type": "code",
   "execution_count": 14,
   "id": "c63d362a-a61b-453e-a182-222277fa1885",
   "metadata": {},
   "outputs": [],
   "source": [
    "## Data describe"
   ]
  },
  {
   "cell_type": "code",
   "execution_count": 15,
   "id": "ba113538-7808-475a-b092-9bcc935f57b9",
   "metadata": {},
   "outputs": [
    {
     "data": {
      "text/html": [
       "<div>\n",
       "<style scoped>\n",
       "    .dataframe tbody tr th:only-of-type {\n",
       "        vertical-align: middle;\n",
       "    }\n",
       "\n",
       "    .dataframe tbody tr th {\n",
       "        vertical-align: top;\n",
       "    }\n",
       "\n",
       "    .dataframe thead th {\n",
       "        text-align: right;\n",
       "    }\n",
       "</style>\n",
       "<table border=\"1\" class=\"dataframe\">\n",
       "  <thead>\n",
       "    <tr style=\"text-align: right;\">\n",
       "      <th></th>\n",
       "      <th>fare_amount</th>\n",
       "      <th>pickup_longitude</th>\n",
       "      <th>pickup_latitude</th>\n",
       "      <th>dropoff_longitude</th>\n",
       "      <th>dropoff_latitude</th>\n",
       "      <th>passenger_count</th>\n",
       "    </tr>\n",
       "  </thead>\n",
       "  <tbody>\n",
       "    <tr>\n",
       "      <th>count</th>\n",
       "      <td>18918.000000</td>\n",
       "      <td>18918.000000</td>\n",
       "      <td>18918.000000</td>\n",
       "      <td>18918.000000</td>\n",
       "      <td>18918.000000</td>\n",
       "      <td>18918.000000</td>\n",
       "    </tr>\n",
       "    <tr>\n",
       "      <th>mean</th>\n",
       "      <td>11.289221</td>\n",
       "      <td>-72.486834</td>\n",
       "      <td>39.925272</td>\n",
       "      <td>-72.498734</td>\n",
       "      <td>39.913116</td>\n",
       "      <td>1.657205</td>\n",
       "    </tr>\n",
       "    <tr>\n",
       "      <th>std</th>\n",
       "      <td>9.551667</td>\n",
       "      <td>10.503808</td>\n",
       "      <td>6.715228</td>\n",
       "      <td>10.461670</td>\n",
       "      <td>6.160671</td>\n",
       "      <td>1.282236</td>\n",
       "    </tr>\n",
       "    <tr>\n",
       "      <th>min</th>\n",
       "      <td>-3.000000</td>\n",
       "      <td>-74.438233</td>\n",
       "      <td>-74.006893</td>\n",
       "      <td>-84.654241</td>\n",
       "      <td>-74.006377</td>\n",
       "      <td>0.000000</td>\n",
       "    </tr>\n",
       "    <tr>\n",
       "      <th>25%</th>\n",
       "      <td>6.000000</td>\n",
       "      <td>-73.992223</td>\n",
       "      <td>40.734687</td>\n",
       "      <td>-73.991233</td>\n",
       "      <td>40.734589</td>\n",
       "      <td>1.000000</td>\n",
       "    </tr>\n",
       "    <tr>\n",
       "      <th>50%</th>\n",
       "      <td>8.500000</td>\n",
       "      <td>-73.981758</td>\n",
       "      <td>40.752620</td>\n",
       "      <td>-73.980234</td>\n",
       "      <td>40.753566</td>\n",
       "      <td>1.000000</td>\n",
       "    </tr>\n",
       "    <tr>\n",
       "      <th>75%</th>\n",
       "      <td>12.500000</td>\n",
       "      <td>-73.966788</td>\n",
       "      <td>40.767427</td>\n",
       "      <td>-73.963834</td>\n",
       "      <td>40.768067</td>\n",
       "      <td>2.000000</td>\n",
       "    </tr>\n",
       "    <tr>\n",
       "      <th>max</th>\n",
       "      <td>180.000000</td>\n",
       "      <td>40.766125</td>\n",
       "      <td>401.083332</td>\n",
       "      <td>40.802437</td>\n",
       "      <td>41.366138</td>\n",
       "      <td>6.000000</td>\n",
       "    </tr>\n",
       "  </tbody>\n",
       "</table>\n",
       "</div>"
      ],
      "text/plain": [
       "        fare_amount  pickup_longitude  pickup_latitude  dropoff_longitude  \\\n",
       "count  18918.000000      18918.000000     18918.000000       18918.000000   \n",
       "mean      11.289221        -72.486834        39.925272         -72.498734   \n",
       "std        9.551667         10.503808         6.715228          10.461670   \n",
       "min       -3.000000        -74.438233       -74.006893         -84.654241   \n",
       "25%        6.000000        -73.992223        40.734687         -73.991233   \n",
       "50%        8.500000        -73.981758        40.752620         -73.980234   \n",
       "75%       12.500000        -73.966788        40.767427         -73.963834   \n",
       "max      180.000000         40.766125       401.083332          40.802437   \n",
       "\n",
       "       dropoff_latitude  passenger_count  \n",
       "count      18918.000000     18918.000000  \n",
       "mean          39.913116         1.657205  \n",
       "std            6.160671         1.282236  \n",
       "min          -74.006377         0.000000  \n",
       "25%           40.734589         1.000000  \n",
       "50%           40.753566         1.000000  \n",
       "75%           40.768067         2.000000  \n",
       "max           41.366138         6.000000  "
      ]
     },
     "execution_count": 15,
     "metadata": {},
     "output_type": "execute_result"
    }
   ],
   "source": [
    "df.describe()"
   ]
  },
  {
   "cell_type": "code",
   "execution_count": 16,
   "id": "cd2dd280-5ca8-48a3-84bc-1689d5561d58",
   "metadata": {},
   "outputs": [],
   "source": [
    "### Data Preparation"
   ]
  },
  {
   "cell_type": "markdown",
   "id": "6aad057b-5317-42a3-8bd2-1d62fcf51825",
   "metadata": {},
   "source": [
    "## Adding Features :\n",
    "- Jarak (Simplify)\n",
    "- Jam (Jam pulang dan berangkat kantor)\n",
    "- Hari : Hari kerja atau libur\n",
    "- Lokasi\n",
    "- Tahun\n",
    "- Jumlah penumpang"
   ]
  },
  {
   "cell_type": "code",
   "execution_count": 17,
   "id": "29aa364d-8c29-49ec-a811-335c1f11e163",
   "metadata": {},
   "outputs": [],
   "source": [
    "### Features Extraction => Datetime Extract"
   ]
  },
  {
   "cell_type": "code",
   "execution_count": 18,
   "id": "30e56b90-ac93-4a14-a4b7-8a7cc967050c",
   "metadata": {},
   "outputs": [],
   "source": [
    "pickup_dt = df['pickup_datetime'].dt"
   ]
  },
  {
   "cell_type": "code",
   "execution_count": 19,
   "id": "cee8a3df-9027-4e04-b0b2-d91a10c31ae6",
   "metadata": {},
   "outputs": [],
   "source": [
    "df['year'] = pickup_dt.year ## mengambil tahun\n",
    "df['month'] = pickup_dt.month ## mengambil bulan\n",
    "df['date'] = pickup_dt.day ## mengambil tanggal"
   ]
  },
  {
   "cell_type": "code",
   "execution_count": 20,
   "id": "be100360-866c-4037-bf1c-5c20718eccfd",
   "metadata": {},
   "outputs": [
    {
     "data": {
      "text/html": [
       "<div>\n",
       "<style scoped>\n",
       "    .dataframe tbody tr th:only-of-type {\n",
       "        vertical-align: middle;\n",
       "    }\n",
       "\n",
       "    .dataframe tbody tr th {\n",
       "        vertical-align: top;\n",
       "    }\n",
       "\n",
       "    .dataframe thead th {\n",
       "        text-align: right;\n",
       "    }\n",
       "</style>\n",
       "<table border=\"1\" class=\"dataframe\">\n",
       "  <thead>\n",
       "    <tr style=\"text-align: right;\">\n",
       "      <th></th>\n",
       "      <th>fare_amount</th>\n",
       "      <th>pickup_datetime</th>\n",
       "      <th>pickup_longitude</th>\n",
       "      <th>pickup_latitude</th>\n",
       "      <th>dropoff_longitude</th>\n",
       "      <th>dropoff_latitude</th>\n",
       "      <th>passenger_count</th>\n",
       "      <th>year</th>\n",
       "      <th>month</th>\n",
       "      <th>date</th>\n",
       "    </tr>\n",
       "  </thead>\n",
       "  <tbody>\n",
       "    <tr>\n",
       "      <th>0</th>\n",
       "      <td>4.5</td>\n",
       "      <td>2009-06-15 17:26:21</td>\n",
       "      <td>-73.844311</td>\n",
       "      <td>40.721319</td>\n",
       "      <td>-73.841610</td>\n",
       "      <td>40.712278</td>\n",
       "      <td>1.0</td>\n",
       "      <td>2009</td>\n",
       "      <td>6</td>\n",
       "      <td>15</td>\n",
       "    </tr>\n",
       "    <tr>\n",
       "      <th>1</th>\n",
       "      <td>16.9</td>\n",
       "      <td>2010-01-05 16:52:16</td>\n",
       "      <td>-74.016048</td>\n",
       "      <td>40.711303</td>\n",
       "      <td>-73.979268</td>\n",
       "      <td>40.782004</td>\n",
       "      <td>1.0</td>\n",
       "      <td>2010</td>\n",
       "      <td>1</td>\n",
       "      <td>5</td>\n",
       "    </tr>\n",
       "    <tr>\n",
       "      <th>2</th>\n",
       "      <td>5.7</td>\n",
       "      <td>2011-08-18 00:35:00</td>\n",
       "      <td>-73.982738</td>\n",
       "      <td>40.761270</td>\n",
       "      <td>-73.991242</td>\n",
       "      <td>40.750562</td>\n",
       "      <td>2.0</td>\n",
       "      <td>2011</td>\n",
       "      <td>8</td>\n",
       "      <td>18</td>\n",
       "    </tr>\n",
       "    <tr>\n",
       "      <th>3</th>\n",
       "      <td>7.7</td>\n",
       "      <td>2012-04-21 04:30:42</td>\n",
       "      <td>-73.987130</td>\n",
       "      <td>40.733143</td>\n",
       "      <td>-73.991567</td>\n",
       "      <td>40.758092</td>\n",
       "      <td>1.0</td>\n",
       "      <td>2012</td>\n",
       "      <td>4</td>\n",
       "      <td>21</td>\n",
       "    </tr>\n",
       "    <tr>\n",
       "      <th>4</th>\n",
       "      <td>5.3</td>\n",
       "      <td>2010-03-09 07:51:00</td>\n",
       "      <td>-73.968095</td>\n",
       "      <td>40.768008</td>\n",
       "      <td>-73.956655</td>\n",
       "      <td>40.783762</td>\n",
       "      <td>1.0</td>\n",
       "      <td>2010</td>\n",
       "      <td>3</td>\n",
       "      <td>9</td>\n",
       "    </tr>\n",
       "  </tbody>\n",
       "</table>\n",
       "</div>"
      ],
      "text/plain": [
       "   fare_amount     pickup_datetime  pickup_longitude  pickup_latitude  \\\n",
       "0          4.5 2009-06-15 17:26:21        -73.844311        40.721319   \n",
       "1         16.9 2010-01-05 16:52:16        -74.016048        40.711303   \n",
       "2          5.7 2011-08-18 00:35:00        -73.982738        40.761270   \n",
       "3          7.7 2012-04-21 04:30:42        -73.987130        40.733143   \n",
       "4          5.3 2010-03-09 07:51:00        -73.968095        40.768008   \n",
       "\n",
       "   dropoff_longitude  dropoff_latitude  passenger_count  year  month  date  \n",
       "0         -73.841610         40.712278              1.0  2009      6    15  \n",
       "1         -73.979268         40.782004              1.0  2010      1     5  \n",
       "2         -73.991242         40.750562              2.0  2011      8    18  \n",
       "3         -73.991567         40.758092              1.0  2012      4    21  \n",
       "4         -73.956655         40.783762              1.0  2010      3     9  "
      ]
     },
     "execution_count": 20,
     "metadata": {},
     "output_type": "execute_result"
    }
   ],
   "source": [
    "df.head()"
   ]
  },
  {
   "cell_type": "code",
   "execution_count": 21,
   "id": "599c6147-8710-47db-9ec5-9b72480b78d3",
   "metadata": {},
   "outputs": [],
   "source": [
    "df['day'] = pickup_dt.dayofweek"
   ]
  },
  {
   "cell_type": "code",
   "execution_count": 22,
   "id": "fc9a931e-08e5-4b99-acdc-ac5eff62797c",
   "metadata": {},
   "outputs": [
    {
     "data": {
      "text/html": [
       "<div>\n",
       "<style scoped>\n",
       "    .dataframe tbody tr th:only-of-type {\n",
       "        vertical-align: middle;\n",
       "    }\n",
       "\n",
       "    .dataframe tbody tr th {\n",
       "        vertical-align: top;\n",
       "    }\n",
       "\n",
       "    .dataframe thead th {\n",
       "        text-align: right;\n",
       "    }\n",
       "</style>\n",
       "<table border=\"1\" class=\"dataframe\">\n",
       "  <thead>\n",
       "    <tr style=\"text-align: right;\">\n",
       "      <th></th>\n",
       "      <th>fare_amount</th>\n",
       "      <th>pickup_datetime</th>\n",
       "      <th>pickup_longitude</th>\n",
       "      <th>pickup_latitude</th>\n",
       "      <th>dropoff_longitude</th>\n",
       "      <th>dropoff_latitude</th>\n",
       "      <th>passenger_count</th>\n",
       "      <th>year</th>\n",
       "      <th>month</th>\n",
       "      <th>date</th>\n",
       "      <th>day</th>\n",
       "    </tr>\n",
       "  </thead>\n",
       "  <tbody>\n",
       "    <tr>\n",
       "      <th>0</th>\n",
       "      <td>4.5</td>\n",
       "      <td>2009-06-15 17:26:21</td>\n",
       "      <td>-73.844311</td>\n",
       "      <td>40.721319</td>\n",
       "      <td>-73.841610</td>\n",
       "      <td>40.712278</td>\n",
       "      <td>1.0</td>\n",
       "      <td>2009</td>\n",
       "      <td>6</td>\n",
       "      <td>15</td>\n",
       "      <td>0</td>\n",
       "    </tr>\n",
       "    <tr>\n",
       "      <th>1</th>\n",
       "      <td>16.9</td>\n",
       "      <td>2010-01-05 16:52:16</td>\n",
       "      <td>-74.016048</td>\n",
       "      <td>40.711303</td>\n",
       "      <td>-73.979268</td>\n",
       "      <td>40.782004</td>\n",
       "      <td>1.0</td>\n",
       "      <td>2010</td>\n",
       "      <td>1</td>\n",
       "      <td>5</td>\n",
       "      <td>1</td>\n",
       "    </tr>\n",
       "    <tr>\n",
       "      <th>2</th>\n",
       "      <td>5.7</td>\n",
       "      <td>2011-08-18 00:35:00</td>\n",
       "      <td>-73.982738</td>\n",
       "      <td>40.761270</td>\n",
       "      <td>-73.991242</td>\n",
       "      <td>40.750562</td>\n",
       "      <td>2.0</td>\n",
       "      <td>2011</td>\n",
       "      <td>8</td>\n",
       "      <td>18</td>\n",
       "      <td>3</td>\n",
       "    </tr>\n",
       "    <tr>\n",
       "      <th>3</th>\n",
       "      <td>7.7</td>\n",
       "      <td>2012-04-21 04:30:42</td>\n",
       "      <td>-73.987130</td>\n",
       "      <td>40.733143</td>\n",
       "      <td>-73.991567</td>\n",
       "      <td>40.758092</td>\n",
       "      <td>1.0</td>\n",
       "      <td>2012</td>\n",
       "      <td>4</td>\n",
       "      <td>21</td>\n",
       "      <td>5</td>\n",
       "    </tr>\n",
       "    <tr>\n",
       "      <th>4</th>\n",
       "      <td>5.3</td>\n",
       "      <td>2010-03-09 07:51:00</td>\n",
       "      <td>-73.968095</td>\n",
       "      <td>40.768008</td>\n",
       "      <td>-73.956655</td>\n",
       "      <td>40.783762</td>\n",
       "      <td>1.0</td>\n",
       "      <td>2010</td>\n",
       "      <td>3</td>\n",
       "      <td>9</td>\n",
       "      <td>1</td>\n",
       "    </tr>\n",
       "  </tbody>\n",
       "</table>\n",
       "</div>"
      ],
      "text/plain": [
       "   fare_amount     pickup_datetime  pickup_longitude  pickup_latitude  \\\n",
       "0          4.5 2009-06-15 17:26:21        -73.844311        40.721319   \n",
       "1         16.9 2010-01-05 16:52:16        -74.016048        40.711303   \n",
       "2          5.7 2011-08-18 00:35:00        -73.982738        40.761270   \n",
       "3          7.7 2012-04-21 04:30:42        -73.987130        40.733143   \n",
       "4          5.3 2010-03-09 07:51:00        -73.968095        40.768008   \n",
       "\n",
       "   dropoff_longitude  dropoff_latitude  passenger_count  year  month  date  \\\n",
       "0         -73.841610         40.712278              1.0  2009      6    15   \n",
       "1         -73.979268         40.782004              1.0  2010      1     5   \n",
       "2         -73.991242         40.750562              2.0  2011      8    18   \n",
       "3         -73.991567         40.758092              1.0  2012      4    21   \n",
       "4         -73.956655         40.783762              1.0  2010      3     9   \n",
       "\n",
       "   day  \n",
       "0    0  \n",
       "1    1  \n",
       "2    3  \n",
       "3    5  \n",
       "4    1  "
      ]
     },
     "execution_count": 22,
     "metadata": {},
     "output_type": "execute_result"
    }
   ],
   "source": [
    "df.head()"
   ]
  },
  {
   "cell_type": "code",
   "execution_count": 23,
   "id": "27722b1c-3a8b-48f1-a311-dab522ef6fc5",
   "metadata": {},
   "outputs": [],
   "source": [
    "def Weekend(x):\n",
    "    if x >4:\n",
    "        return 1\n",
    "    else:\n",
    "        return 0"
   ]
  },
  {
   "cell_type": "code",
   "execution_count": 24,
   "id": "82913490-915b-45c8-8343-5403fa81da84",
   "metadata": {},
   "outputs": [],
   "source": [
    "df['WeekEnd'] = df['day'].apply(Weekend)"
   ]
  },
  {
   "cell_type": "code",
   "execution_count": 25,
   "id": "b57492ef-9d7e-4bb9-bff4-8eff32bb5b55",
   "metadata": {},
   "outputs": [
    {
     "data": {
      "text/html": [
       "<div>\n",
       "<style scoped>\n",
       "    .dataframe tbody tr th:only-of-type {\n",
       "        vertical-align: middle;\n",
       "    }\n",
       "\n",
       "    .dataframe tbody tr th {\n",
       "        vertical-align: top;\n",
       "    }\n",
       "\n",
       "    .dataframe thead th {\n",
       "        text-align: right;\n",
       "    }\n",
       "</style>\n",
       "<table border=\"1\" class=\"dataframe\">\n",
       "  <thead>\n",
       "    <tr style=\"text-align: right;\">\n",
       "      <th></th>\n",
       "      <th>fare_amount</th>\n",
       "      <th>pickup_datetime</th>\n",
       "      <th>pickup_longitude</th>\n",
       "      <th>pickup_latitude</th>\n",
       "      <th>dropoff_longitude</th>\n",
       "      <th>dropoff_latitude</th>\n",
       "      <th>passenger_count</th>\n",
       "      <th>year</th>\n",
       "      <th>month</th>\n",
       "      <th>date</th>\n",
       "      <th>day</th>\n",
       "      <th>WeekEnd</th>\n",
       "    </tr>\n",
       "  </thead>\n",
       "  <tbody>\n",
       "    <tr>\n",
       "      <th>0</th>\n",
       "      <td>4.5</td>\n",
       "      <td>2009-06-15 17:26:21</td>\n",
       "      <td>-73.844311</td>\n",
       "      <td>40.721319</td>\n",
       "      <td>-73.841610</td>\n",
       "      <td>40.712278</td>\n",
       "      <td>1.0</td>\n",
       "      <td>2009</td>\n",
       "      <td>6</td>\n",
       "      <td>15</td>\n",
       "      <td>0</td>\n",
       "      <td>0</td>\n",
       "    </tr>\n",
       "    <tr>\n",
       "      <th>1</th>\n",
       "      <td>16.9</td>\n",
       "      <td>2010-01-05 16:52:16</td>\n",
       "      <td>-74.016048</td>\n",
       "      <td>40.711303</td>\n",
       "      <td>-73.979268</td>\n",
       "      <td>40.782004</td>\n",
       "      <td>1.0</td>\n",
       "      <td>2010</td>\n",
       "      <td>1</td>\n",
       "      <td>5</td>\n",
       "      <td>1</td>\n",
       "      <td>0</td>\n",
       "    </tr>\n",
       "    <tr>\n",
       "      <th>2</th>\n",
       "      <td>5.7</td>\n",
       "      <td>2011-08-18 00:35:00</td>\n",
       "      <td>-73.982738</td>\n",
       "      <td>40.761270</td>\n",
       "      <td>-73.991242</td>\n",
       "      <td>40.750562</td>\n",
       "      <td>2.0</td>\n",
       "      <td>2011</td>\n",
       "      <td>8</td>\n",
       "      <td>18</td>\n",
       "      <td>3</td>\n",
       "      <td>0</td>\n",
       "    </tr>\n",
       "    <tr>\n",
       "      <th>3</th>\n",
       "      <td>7.7</td>\n",
       "      <td>2012-04-21 04:30:42</td>\n",
       "      <td>-73.987130</td>\n",
       "      <td>40.733143</td>\n",
       "      <td>-73.991567</td>\n",
       "      <td>40.758092</td>\n",
       "      <td>1.0</td>\n",
       "      <td>2012</td>\n",
       "      <td>4</td>\n",
       "      <td>21</td>\n",
       "      <td>5</td>\n",
       "      <td>1</td>\n",
       "    </tr>\n",
       "    <tr>\n",
       "      <th>4</th>\n",
       "      <td>5.3</td>\n",
       "      <td>2010-03-09 07:51:00</td>\n",
       "      <td>-73.968095</td>\n",
       "      <td>40.768008</td>\n",
       "      <td>-73.956655</td>\n",
       "      <td>40.783762</td>\n",
       "      <td>1.0</td>\n",
       "      <td>2010</td>\n",
       "      <td>3</td>\n",
       "      <td>9</td>\n",
       "      <td>1</td>\n",
       "      <td>0</td>\n",
       "    </tr>\n",
       "  </tbody>\n",
       "</table>\n",
       "</div>"
      ],
      "text/plain": [
       "   fare_amount     pickup_datetime  pickup_longitude  pickup_latitude  \\\n",
       "0          4.5 2009-06-15 17:26:21        -73.844311        40.721319   \n",
       "1         16.9 2010-01-05 16:52:16        -74.016048        40.711303   \n",
       "2          5.7 2011-08-18 00:35:00        -73.982738        40.761270   \n",
       "3          7.7 2012-04-21 04:30:42        -73.987130        40.733143   \n",
       "4          5.3 2010-03-09 07:51:00        -73.968095        40.768008   \n",
       "\n",
       "   dropoff_longitude  dropoff_latitude  passenger_count  year  month  date  \\\n",
       "0         -73.841610         40.712278              1.0  2009      6    15   \n",
       "1         -73.979268         40.782004              1.0  2010      1     5   \n",
       "2         -73.991242         40.750562              2.0  2011      8    18   \n",
       "3         -73.991567         40.758092              1.0  2012      4    21   \n",
       "4         -73.956655         40.783762              1.0  2010      3     9   \n",
       "\n",
       "   day  WeekEnd  \n",
       "0    0        0  \n",
       "1    1        0  \n",
       "2    3        0  \n",
       "3    5        1  \n",
       "4    1        0  "
      ]
     },
     "execution_count": 25,
     "metadata": {},
     "output_type": "execute_result"
    }
   ],
   "source": [
    "df.head()"
   ]
  },
  {
   "cell_type": "code",
   "execution_count": 26,
   "id": "00a5cfeb-37e2-4bf7-add9-5dd9463e03e4",
   "metadata": {},
   "outputs": [],
   "source": [
    "df.drop(columns='pickup_datetime', inplace=True)"
   ]
  },
  {
   "cell_type": "code",
   "execution_count": 27,
   "id": "018831a5-f98b-4c3a-8073-99c1707acd72",
   "metadata": {},
   "outputs": [
    {
     "data": {
      "text/html": [
       "<div>\n",
       "<style scoped>\n",
       "    .dataframe tbody tr th:only-of-type {\n",
       "        vertical-align: middle;\n",
       "    }\n",
       "\n",
       "    .dataframe tbody tr th {\n",
       "        vertical-align: top;\n",
       "    }\n",
       "\n",
       "    .dataframe thead th {\n",
       "        text-align: right;\n",
       "    }\n",
       "</style>\n",
       "<table border=\"1\" class=\"dataframe\">\n",
       "  <thead>\n",
       "    <tr style=\"text-align: right;\">\n",
       "      <th></th>\n",
       "      <th>fare_amount</th>\n",
       "      <th>pickup_longitude</th>\n",
       "      <th>pickup_latitude</th>\n",
       "      <th>dropoff_longitude</th>\n",
       "      <th>dropoff_latitude</th>\n",
       "      <th>passenger_count</th>\n",
       "      <th>year</th>\n",
       "      <th>month</th>\n",
       "      <th>date</th>\n",
       "      <th>day</th>\n",
       "      <th>WeekEnd</th>\n",
       "    </tr>\n",
       "  </thead>\n",
       "  <tbody>\n",
       "    <tr>\n",
       "      <th>0</th>\n",
       "      <td>4.5</td>\n",
       "      <td>-73.844311</td>\n",
       "      <td>40.721319</td>\n",
       "      <td>-73.841610</td>\n",
       "      <td>40.712278</td>\n",
       "      <td>1.0</td>\n",
       "      <td>2009</td>\n",
       "      <td>6</td>\n",
       "      <td>15</td>\n",
       "      <td>0</td>\n",
       "      <td>0</td>\n",
       "    </tr>\n",
       "    <tr>\n",
       "      <th>1</th>\n",
       "      <td>16.9</td>\n",
       "      <td>-74.016048</td>\n",
       "      <td>40.711303</td>\n",
       "      <td>-73.979268</td>\n",
       "      <td>40.782004</td>\n",
       "      <td>1.0</td>\n",
       "      <td>2010</td>\n",
       "      <td>1</td>\n",
       "      <td>5</td>\n",
       "      <td>1</td>\n",
       "      <td>0</td>\n",
       "    </tr>\n",
       "    <tr>\n",
       "      <th>2</th>\n",
       "      <td>5.7</td>\n",
       "      <td>-73.982738</td>\n",
       "      <td>40.761270</td>\n",
       "      <td>-73.991242</td>\n",
       "      <td>40.750562</td>\n",
       "      <td>2.0</td>\n",
       "      <td>2011</td>\n",
       "      <td>8</td>\n",
       "      <td>18</td>\n",
       "      <td>3</td>\n",
       "      <td>0</td>\n",
       "    </tr>\n",
       "    <tr>\n",
       "      <th>3</th>\n",
       "      <td>7.7</td>\n",
       "      <td>-73.987130</td>\n",
       "      <td>40.733143</td>\n",
       "      <td>-73.991567</td>\n",
       "      <td>40.758092</td>\n",
       "      <td>1.0</td>\n",
       "      <td>2012</td>\n",
       "      <td>4</td>\n",
       "      <td>21</td>\n",
       "      <td>5</td>\n",
       "      <td>1</td>\n",
       "    </tr>\n",
       "    <tr>\n",
       "      <th>4</th>\n",
       "      <td>5.3</td>\n",
       "      <td>-73.968095</td>\n",
       "      <td>40.768008</td>\n",
       "      <td>-73.956655</td>\n",
       "      <td>40.783762</td>\n",
       "      <td>1.0</td>\n",
       "      <td>2010</td>\n",
       "      <td>3</td>\n",
       "      <td>9</td>\n",
       "      <td>1</td>\n",
       "      <td>0</td>\n",
       "    </tr>\n",
       "  </tbody>\n",
       "</table>\n",
       "</div>"
      ],
      "text/plain": [
       "   fare_amount  pickup_longitude  pickup_latitude  dropoff_longitude  \\\n",
       "0          4.5        -73.844311        40.721319         -73.841610   \n",
       "1         16.9        -74.016048        40.711303         -73.979268   \n",
       "2          5.7        -73.982738        40.761270         -73.991242   \n",
       "3          7.7        -73.987130        40.733143         -73.991567   \n",
       "4          5.3        -73.968095        40.768008         -73.956655   \n",
       "\n",
       "   dropoff_latitude  passenger_count  year  month  date  day  WeekEnd  \n",
       "0         40.712278              1.0  2009      6    15    0        0  \n",
       "1         40.782004              1.0  2010      1     5    1        0  \n",
       "2         40.750562              2.0  2011      8    18    3        0  \n",
       "3         40.758092              1.0  2012      4    21    5        1  \n",
       "4         40.783762              1.0  2010      3     9    1        0  "
      ]
     },
     "execution_count": 27,
     "metadata": {},
     "output_type": "execute_result"
    }
   ],
   "source": [
    "df.head()"
   ]
  },
  {
   "cell_type": "code",
   "execution_count": 28,
   "id": "ebe1feec-778f-4cbb-923a-b7223deac77e",
   "metadata": {},
   "outputs": [],
   "source": [
    "### Membuat Jarak - Simplify\n",
    "df['distance'] =abs((df['pickup_longitude'] - df['dropoff_longitude'] + \n",
    "                    df['pickup_latitude'] - df['dropoff_latitude']))"
   ]
  },
  {
   "cell_type": "code",
   "execution_count": 29,
   "id": "df8f0da8-d944-45e4-83e7-18aee1ddab94",
   "metadata": {},
   "outputs": [
    {
     "data": {
      "text/html": [
       "<div>\n",
       "<style scoped>\n",
       "    .dataframe tbody tr th:only-of-type {\n",
       "        vertical-align: middle;\n",
       "    }\n",
       "\n",
       "    .dataframe tbody tr th {\n",
       "        vertical-align: top;\n",
       "    }\n",
       "\n",
       "    .dataframe thead th {\n",
       "        text-align: right;\n",
       "    }\n",
       "</style>\n",
       "<table border=\"1\" class=\"dataframe\">\n",
       "  <thead>\n",
       "    <tr style=\"text-align: right;\">\n",
       "      <th></th>\n",
       "      <th>fare_amount</th>\n",
       "      <th>pickup_longitude</th>\n",
       "      <th>pickup_latitude</th>\n",
       "      <th>dropoff_longitude</th>\n",
       "      <th>dropoff_latitude</th>\n",
       "      <th>passenger_count</th>\n",
       "      <th>year</th>\n",
       "      <th>month</th>\n",
       "      <th>date</th>\n",
       "      <th>day</th>\n",
       "      <th>WeekEnd</th>\n",
       "      <th>distance</th>\n",
       "    </tr>\n",
       "  </thead>\n",
       "  <tbody>\n",
       "    <tr>\n",
       "      <th>0</th>\n",
       "      <td>4.5</td>\n",
       "      <td>-73.844311</td>\n",
       "      <td>40.721319</td>\n",
       "      <td>-73.841610</td>\n",
       "      <td>40.712278</td>\n",
       "      <td>1.0</td>\n",
       "      <td>2009</td>\n",
       "      <td>6</td>\n",
       "      <td>15</td>\n",
       "      <td>0</td>\n",
       "      <td>0</td>\n",
       "      <td>0.006340</td>\n",
       "    </tr>\n",
       "    <tr>\n",
       "      <th>1</th>\n",
       "      <td>16.9</td>\n",
       "      <td>-74.016048</td>\n",
       "      <td>40.711303</td>\n",
       "      <td>-73.979268</td>\n",
       "      <td>40.782004</td>\n",
       "      <td>1.0</td>\n",
       "      <td>2010</td>\n",
       "      <td>1</td>\n",
       "      <td>5</td>\n",
       "      <td>1</td>\n",
       "      <td>0</td>\n",
       "      <td>0.107481</td>\n",
       "    </tr>\n",
       "    <tr>\n",
       "      <th>2</th>\n",
       "      <td>5.7</td>\n",
       "      <td>-73.982738</td>\n",
       "      <td>40.761270</td>\n",
       "      <td>-73.991242</td>\n",
       "      <td>40.750562</td>\n",
       "      <td>2.0</td>\n",
       "      <td>2011</td>\n",
       "      <td>8</td>\n",
       "      <td>18</td>\n",
       "      <td>3</td>\n",
       "      <td>0</td>\n",
       "      <td>0.019212</td>\n",
       "    </tr>\n",
       "    <tr>\n",
       "      <th>3</th>\n",
       "      <td>7.7</td>\n",
       "      <td>-73.987130</td>\n",
       "      <td>40.733143</td>\n",
       "      <td>-73.991567</td>\n",
       "      <td>40.758092</td>\n",
       "      <td>1.0</td>\n",
       "      <td>2012</td>\n",
       "      <td>4</td>\n",
       "      <td>21</td>\n",
       "      <td>5</td>\n",
       "      <td>1</td>\n",
       "      <td>0.020512</td>\n",
       "    </tr>\n",
       "    <tr>\n",
       "      <th>4</th>\n",
       "      <td>5.3</td>\n",
       "      <td>-73.968095</td>\n",
       "      <td>40.768008</td>\n",
       "      <td>-73.956655</td>\n",
       "      <td>40.783762</td>\n",
       "      <td>1.0</td>\n",
       "      <td>2010</td>\n",
       "      <td>3</td>\n",
       "      <td>9</td>\n",
       "      <td>1</td>\n",
       "      <td>0</td>\n",
       "      <td>0.027194</td>\n",
       "    </tr>\n",
       "  </tbody>\n",
       "</table>\n",
       "</div>"
      ],
      "text/plain": [
       "   fare_amount  pickup_longitude  pickup_latitude  dropoff_longitude  \\\n",
       "0          4.5        -73.844311        40.721319         -73.841610   \n",
       "1         16.9        -74.016048        40.711303         -73.979268   \n",
       "2          5.7        -73.982738        40.761270         -73.991242   \n",
       "3          7.7        -73.987130        40.733143         -73.991567   \n",
       "4          5.3        -73.968095        40.768008         -73.956655   \n",
       "\n",
       "   dropoff_latitude  passenger_count  year  month  date  day  WeekEnd  \\\n",
       "0         40.712278              1.0  2009      6    15    0        0   \n",
       "1         40.782004              1.0  2010      1     5    1        0   \n",
       "2         40.750562              2.0  2011      8    18    3        0   \n",
       "3         40.758092              1.0  2012      4    21    5        1   \n",
       "4         40.783762              1.0  2010      3     9    1        0   \n",
       "\n",
       "   distance  \n",
       "0  0.006340  \n",
       "1  0.107481  \n",
       "2  0.019212  \n",
       "3  0.020512  \n",
       "4  0.027194  "
      ]
     },
     "execution_count": 29,
     "metadata": {},
     "output_type": "execute_result"
    }
   ],
   "source": [
    "df.head()"
   ]
  },
  {
   "cell_type": "code",
   "execution_count": 30,
   "id": "97e94179-6b88-41a7-bcf8-0f7e3551473c",
   "metadata": {},
   "outputs": [],
   "source": [
    "df.drop(columns=['pickup_longitude', 'dropoff_longitude', 'pickup_latitude', 'dropoff_latitude'], inplace=True)"
   ]
  },
  {
   "cell_type": "code",
   "execution_count": 31,
   "id": "25542025-4bfd-4751-b4f3-7177179da6b3",
   "metadata": {},
   "outputs": [
    {
     "data": {
      "text/html": [
       "<div>\n",
       "<style scoped>\n",
       "    .dataframe tbody tr th:only-of-type {\n",
       "        vertical-align: middle;\n",
       "    }\n",
       "\n",
       "    .dataframe tbody tr th {\n",
       "        vertical-align: top;\n",
       "    }\n",
       "\n",
       "    .dataframe thead th {\n",
       "        text-align: right;\n",
       "    }\n",
       "</style>\n",
       "<table border=\"1\" class=\"dataframe\">\n",
       "  <thead>\n",
       "    <tr style=\"text-align: right;\">\n",
       "      <th></th>\n",
       "      <th>fare_amount</th>\n",
       "      <th>passenger_count</th>\n",
       "      <th>year</th>\n",
       "      <th>month</th>\n",
       "      <th>date</th>\n",
       "      <th>day</th>\n",
       "      <th>WeekEnd</th>\n",
       "      <th>distance</th>\n",
       "    </tr>\n",
       "  </thead>\n",
       "  <tbody>\n",
       "    <tr>\n",
       "      <th>0</th>\n",
       "      <td>4.5</td>\n",
       "      <td>1.0</td>\n",
       "      <td>2009</td>\n",
       "      <td>6</td>\n",
       "      <td>15</td>\n",
       "      <td>0</td>\n",
       "      <td>0</td>\n",
       "      <td>0.006340</td>\n",
       "    </tr>\n",
       "    <tr>\n",
       "      <th>1</th>\n",
       "      <td>16.9</td>\n",
       "      <td>1.0</td>\n",
       "      <td>2010</td>\n",
       "      <td>1</td>\n",
       "      <td>5</td>\n",
       "      <td>1</td>\n",
       "      <td>0</td>\n",
       "      <td>0.107481</td>\n",
       "    </tr>\n",
       "    <tr>\n",
       "      <th>2</th>\n",
       "      <td>5.7</td>\n",
       "      <td>2.0</td>\n",
       "      <td>2011</td>\n",
       "      <td>8</td>\n",
       "      <td>18</td>\n",
       "      <td>3</td>\n",
       "      <td>0</td>\n",
       "      <td>0.019212</td>\n",
       "    </tr>\n",
       "    <tr>\n",
       "      <th>3</th>\n",
       "      <td>7.7</td>\n",
       "      <td>1.0</td>\n",
       "      <td>2012</td>\n",
       "      <td>4</td>\n",
       "      <td>21</td>\n",
       "      <td>5</td>\n",
       "      <td>1</td>\n",
       "      <td>0.020512</td>\n",
       "    </tr>\n",
       "    <tr>\n",
       "      <th>4</th>\n",
       "      <td>5.3</td>\n",
       "      <td>1.0</td>\n",
       "      <td>2010</td>\n",
       "      <td>3</td>\n",
       "      <td>9</td>\n",
       "      <td>1</td>\n",
       "      <td>0</td>\n",
       "      <td>0.027194</td>\n",
       "    </tr>\n",
       "  </tbody>\n",
       "</table>\n",
       "</div>"
      ],
      "text/plain": [
       "   fare_amount  passenger_count  year  month  date  day  WeekEnd  distance\n",
       "0          4.5              1.0  2009      6    15    0        0  0.006340\n",
       "1         16.9              1.0  2010      1     5    1        0  0.107481\n",
       "2          5.7              2.0  2011      8    18    3        0  0.019212\n",
       "3          7.7              1.0  2012      4    21    5        1  0.020512\n",
       "4          5.3              1.0  2010      3     9    1        0  0.027194"
      ]
     },
     "execution_count": 31,
     "metadata": {},
     "output_type": "execute_result"
    }
   ],
   "source": [
    "df.head()"
   ]
  },
  {
   "cell_type": "code",
   "execution_count": 32,
   "id": "88044708-5a58-4645-8345-b6ee29de06d2",
   "metadata": {},
   "outputs": [],
   "source": [
    "### Machine Leraning Modelling"
   ]
  },
  {
   "cell_type": "code",
   "execution_count": 33,
   "id": "a2fe0e56-f70e-4e97-86c5-f002383a7475",
   "metadata": {},
   "outputs": [],
   "source": [
    "### Spltting Data"
   ]
  },
  {
   "cell_type": "code",
   "execution_count": 34,
   "id": "dd15a4c1-ecf9-4578-8599-547e8fdc7e98",
   "metadata": {},
   "outputs": [],
   "source": [
    "from sklearn.model_selection import train_test_split"
   ]
  },
  {
   "cell_type": "code",
   "execution_count": 35,
   "id": "3a356253-7b42-48cd-a220-54b235609f55",
   "metadata": {},
   "outputs": [],
   "source": [
    "X = df.drop(columns='fare_amount')\n",
    "y = df['fare_amount']"
   ]
  },
  {
   "cell_type": "code",
   "execution_count": 36,
   "id": "a271ce03-c106-4d3a-a300-c172f649bc1b",
   "metadata": {},
   "outputs": [],
   "source": [
    "X_train, X_test, y_train, y_test = train_test_split(X, y, train_size = .80, random_state = 42)"
   ]
  },
  {
   "cell_type": "code",
   "execution_count": 37,
   "id": "eefee195-d966-4be1-8b5c-69f3982bee6a",
   "metadata": {},
   "outputs": [
    {
     "data": {
      "text/plain": [
       "(15134, 7)"
      ]
     },
     "execution_count": 37,
     "metadata": {},
     "output_type": "execute_result"
    }
   ],
   "source": [
    "X_train.shape"
   ]
  },
  {
   "cell_type": "code",
   "execution_count": 38,
   "id": "72c83c58-1453-4721-9dab-0b8c29589c55",
   "metadata": {},
   "outputs": [
    {
     "data": {
      "text/plain": [
       "(3784, 7)"
      ]
     },
     "execution_count": 38,
     "metadata": {},
     "output_type": "execute_result"
    }
   ],
   "source": [
    "X_test.shape"
   ]
  },
  {
   "cell_type": "code",
   "execution_count": 39,
   "id": "4d4b25cf-9001-4eb5-92be-abb709cbef36",
   "metadata": {},
   "outputs": [
    {
     "data": {
      "text/html": [
       "<div>\n",
       "<style scoped>\n",
       "    .dataframe tbody tr th:only-of-type {\n",
       "        vertical-align: middle;\n",
       "    }\n",
       "\n",
       "    .dataframe tbody tr th {\n",
       "        vertical-align: top;\n",
       "    }\n",
       "\n",
       "    .dataframe thead th {\n",
       "        text-align: right;\n",
       "    }\n",
       "</style>\n",
       "<table border=\"1\" class=\"dataframe\">\n",
       "  <thead>\n",
       "    <tr style=\"text-align: right;\">\n",
       "      <th></th>\n",
       "      <th>passenger_count</th>\n",
       "      <th>year</th>\n",
       "      <th>month</th>\n",
       "      <th>date</th>\n",
       "      <th>day</th>\n",
       "      <th>WeekEnd</th>\n",
       "      <th>distance</th>\n",
       "    </tr>\n",
       "  </thead>\n",
       "  <tbody>\n",
       "    <tr>\n",
       "      <th>7539</th>\n",
       "      <td>1.0</td>\n",
       "      <td>2011</td>\n",
       "      <td>6</td>\n",
       "      <td>14</td>\n",
       "      <td>1</td>\n",
       "      <td>0</td>\n",
       "      <td>0.000000</td>\n",
       "    </tr>\n",
       "    <tr>\n",
       "      <th>578</th>\n",
       "      <td>3.0</td>\n",
       "      <td>2010</td>\n",
       "      <td>3</td>\n",
       "      <td>25</td>\n",
       "      <td>3</td>\n",
       "      <td>0</td>\n",
       "      <td>0.009293</td>\n",
       "    </tr>\n",
       "    <tr>\n",
       "      <th>8056</th>\n",
       "      <td>5.0</td>\n",
       "      <td>2010</td>\n",
       "      <td>4</td>\n",
       "      <td>12</td>\n",
       "      <td>0</td>\n",
       "      <td>0</td>\n",
       "      <td>0.048951</td>\n",
       "    </tr>\n",
       "    <tr>\n",
       "      <th>11761</th>\n",
       "      <td>1.0</td>\n",
       "      <td>2014</td>\n",
       "      <td>11</td>\n",
       "      <td>17</td>\n",
       "      <td>0</td>\n",
       "      <td>0</td>\n",
       "      <td>0.021735</td>\n",
       "    </tr>\n",
       "    <tr>\n",
       "      <th>15531</th>\n",
       "      <td>1.0</td>\n",
       "      <td>2012</td>\n",
       "      <td>12</td>\n",
       "      <td>29</td>\n",
       "      <td>5</td>\n",
       "      <td>1</td>\n",
       "      <td>0.010498</td>\n",
       "    </tr>\n",
       "  </tbody>\n",
       "</table>\n",
       "</div>"
      ],
      "text/plain": [
       "       passenger_count  year  month  date  day  WeekEnd  distance\n",
       "7539               1.0  2011      6    14    1        0  0.000000\n",
       "578                3.0  2010      3    25    3        0  0.009293\n",
       "8056               5.0  2010      4    12    0        0  0.048951\n",
       "11761              1.0  2014     11    17    0        0  0.021735\n",
       "15531              1.0  2012     12    29    5        1  0.010498"
      ]
     },
     "execution_count": 39,
     "metadata": {},
     "output_type": "execute_result"
    }
   ],
   "source": [
    "X_train.head()"
   ]
  },
  {
   "cell_type": "code",
   "execution_count": 40,
   "id": "f2053438-a67e-4009-a969-bea7de5b2957",
   "metadata": {},
   "outputs": [
    {
     "data": {
      "text/html": [
       "<div>\n",
       "<style scoped>\n",
       "    .dataframe tbody tr th:only-of-type {\n",
       "        vertical-align: middle;\n",
       "    }\n",
       "\n",
       "    .dataframe tbody tr th {\n",
       "        vertical-align: top;\n",
       "    }\n",
       "\n",
       "    .dataframe thead th {\n",
       "        text-align: right;\n",
       "    }\n",
       "</style>\n",
       "<table border=\"1\" class=\"dataframe\">\n",
       "  <thead>\n",
       "    <tr style=\"text-align: right;\">\n",
       "      <th></th>\n",
       "      <th>passenger_count</th>\n",
       "      <th>year</th>\n",
       "      <th>month</th>\n",
       "      <th>date</th>\n",
       "      <th>day</th>\n",
       "      <th>WeekEnd</th>\n",
       "      <th>distance</th>\n",
       "    </tr>\n",
       "  </thead>\n",
       "  <tbody>\n",
       "    <tr>\n",
       "      <th>12565</th>\n",
       "      <td>1.0</td>\n",
       "      <td>2012</td>\n",
       "      <td>6</td>\n",
       "      <td>15</td>\n",
       "      <td>4</td>\n",
       "      <td>0</td>\n",
       "      <td>0.034270</td>\n",
       "    </tr>\n",
       "    <tr>\n",
       "      <th>5282</th>\n",
       "      <td>1.0</td>\n",
       "      <td>2012</td>\n",
       "      <td>1</td>\n",
       "      <td>19</td>\n",
       "      <td>3</td>\n",
       "      <td>0</td>\n",
       "      <td>0.013032</td>\n",
       "    </tr>\n",
       "    <tr>\n",
       "      <th>4525</th>\n",
       "      <td>2.0</td>\n",
       "      <td>2010</td>\n",
       "      <td>11</td>\n",
       "      <td>16</td>\n",
       "      <td>1</td>\n",
       "      <td>0</td>\n",
       "      <td>0.058549</td>\n",
       "    </tr>\n",
       "    <tr>\n",
       "      <th>17370</th>\n",
       "      <td>2.0</td>\n",
       "      <td>2011</td>\n",
       "      <td>2</td>\n",
       "      <td>9</td>\n",
       "      <td>2</td>\n",
       "      <td>0</td>\n",
       "      <td>0.069345</td>\n",
       "    </tr>\n",
       "    <tr>\n",
       "      <th>9239</th>\n",
       "      <td>1.0</td>\n",
       "      <td>2013</td>\n",
       "      <td>10</td>\n",
       "      <td>7</td>\n",
       "      <td>0</td>\n",
       "      <td>0</td>\n",
       "      <td>0.013675</td>\n",
       "    </tr>\n",
       "  </tbody>\n",
       "</table>\n",
       "</div>"
      ],
      "text/plain": [
       "       passenger_count  year  month  date  day  WeekEnd  distance\n",
       "12565              1.0  2012      6    15    4        0  0.034270\n",
       "5282               1.0  2012      1    19    3        0  0.013032\n",
       "4525               2.0  2010     11    16    1        0  0.058549\n",
       "17370              2.0  2011      2     9    2        0  0.069345\n",
       "9239               1.0  2013     10     7    0        0  0.013675"
      ]
     },
     "execution_count": 40,
     "metadata": {},
     "output_type": "execute_result"
    }
   ],
   "source": [
    "X_test.head()"
   ]
  },
  {
   "cell_type": "code",
   "execution_count": 41,
   "id": "9179c821-7edc-44f5-9322-56562aef5f3f",
   "metadata": {},
   "outputs": [],
   "source": [
    "from sklearn.linear_model import LinearRegression, Lasso, Ridge, ElasticNet"
   ]
  },
  {
   "cell_type": "code",
   "execution_count": 42,
   "id": "5751dc5f-40c2-4805-ae65-f0bc52ecbae5",
   "metadata": {},
   "outputs": [],
   "source": [
    "from sklearn.metrics import r2_score, mean_absolute_error, mean_squared_error"
   ]
  },
  {
   "cell_type": "code",
   "execution_count": 43,
   "id": "67df614a-06b3-4ee3-aaea-0ef364b49859",
   "metadata": {},
   "outputs": [],
   "source": [
    "## Base Model"
   ]
  },
  {
   "cell_type": "code",
   "execution_count": 44,
   "id": "96357397-5891-40d3-afc7-a7085b09f462",
   "metadata": {},
   "outputs": [],
   "source": [
    "Model_1 = LinearRegression(fit_intercept=False)"
   ]
  },
  {
   "cell_type": "code",
   "execution_count": 45,
   "id": "ba81242e-c9c4-455d-90de-0d2da9600417",
   "metadata": {},
   "outputs": [
    {
     "data": {
      "text/plain": [
       "LinearRegression(fit_intercept=False)"
      ]
     },
     "execution_count": 45,
     "metadata": {},
     "output_type": "execute_result"
    }
   ],
   "source": [
    "Model_1.fit(X_train, y_train)"
   ]
  },
  {
   "cell_type": "code",
   "execution_count": 46,
   "id": "0de8835a-abe1-46bd-a392-f34b750758e8",
   "metadata": {},
   "outputs": [],
   "source": [
    "### Evaluation"
   ]
  },
  {
   "cell_type": "code",
   "execution_count": 47,
   "id": "0d73c1e8-ba8c-4373-8e11-cffdb2bb9bc9",
   "metadata": {},
   "outputs": [],
   "source": [
    "### Training"
   ]
  },
  {
   "cell_type": "code",
   "execution_count": 48,
   "id": "b6b23b5a-fdeb-47a1-b2b4-984d07825976",
   "metadata": {},
   "outputs": [],
   "source": [
    "y_pred_tr = Model_1.predict(X_train)"
   ]
  },
  {
   "cell_type": "code",
   "execution_count": 49,
   "id": "0040dd6b-2082-4764-93ad-59c6c71f6d6f",
   "metadata": {},
   "outputs": [
    {
     "data": {
      "text/plain": [
       "0.001311695445722294"
      ]
     },
     "execution_count": 49,
     "metadata": {},
     "output_type": "execute_result"
    }
   ],
   "source": [
    "r2_score(y_train, y_pred_tr)"
   ]
  },
  {
   "cell_type": "code",
   "execution_count": 50,
   "id": "719f9924-7141-42f6-bd85-e7a25e78dbca",
   "metadata": {},
   "outputs": [
    {
     "data": {
      "text/plain": [
       "6.015018423617383"
      ]
     },
     "execution_count": 50,
     "metadata": {},
     "output_type": "execute_result"
    }
   ],
   "source": [
    "mean_absolute_error(y_train, y_pred_tr)"
   ]
  },
  {
   "cell_type": "code",
   "execution_count": 51,
   "id": "e99e39ab-3c41-460d-a473-7271136a7900",
   "metadata": {},
   "outputs": [
    {
     "data": {
      "text/plain": [
       "92.61007840958622"
      ]
     },
     "execution_count": 51,
     "metadata": {},
     "output_type": "execute_result"
    }
   ],
   "source": [
    "mean_squared_error(y_train, y_pred_tr)"
   ]
  },
  {
   "cell_type": "code",
   "execution_count": 52,
   "id": "96de7b3d-637b-493f-92a1-346b51917928",
   "metadata": {},
   "outputs": [
    {
     "data": {
      "text/plain": [
       "9.623413033305088"
      ]
     },
     "execution_count": 52,
     "metadata": {},
     "output_type": "execute_result"
    }
   ],
   "source": [
    "np.sqrt(mean_squared_error(y_train, y_pred_tr))"
   ]
  },
  {
   "cell_type": "code",
   "execution_count": 53,
   "id": "3eade90f-fe3a-4b56-bc85-3c0ac665109e",
   "metadata": {},
   "outputs": [],
   "source": [
    "### Testing"
   ]
  },
  {
   "cell_type": "code",
   "execution_count": 54,
   "id": "5c6db1ea-c8a6-484b-8fe4-a7b2a1cc3048",
   "metadata": {},
   "outputs": [],
   "source": [
    "y_pred_ts = Model_1.predict(X_test)"
   ]
  },
  {
   "cell_type": "code",
   "execution_count": 55,
   "id": "7c5335f5-510a-4df6-9d14-1a0edc7afe49",
   "metadata": {},
   "outputs": [
    {
     "data": {
      "text/plain": [
       "0.0027377484669761643"
      ]
     },
     "execution_count": 55,
     "metadata": {},
     "output_type": "execute_result"
    }
   ],
   "source": [
    "r2_score(y_test, y_pred_ts)"
   ]
  },
  {
   "cell_type": "code",
   "execution_count": 56,
   "id": "4fb36346-182b-4f30-8ace-e3ca9c4177d5",
   "metadata": {},
   "outputs": [
    {
     "data": {
      "text/plain": [
       "5.806390978693588"
      ]
     },
     "execution_count": 56,
     "metadata": {},
     "output_type": "execute_result"
    }
   ],
   "source": [
    "mean_absolute_error(y_test, y_pred_ts)"
   ]
  },
  {
   "cell_type": "code",
   "execution_count": 57,
   "id": "9fa4705c-cc44-4c79-bfdc-51bbeee0a733",
   "metadata": {},
   "outputs": [
    {
     "data": {
      "text/plain": [
       "84.96535334312449"
      ]
     },
     "execution_count": 57,
     "metadata": {},
     "output_type": "execute_result"
    }
   ],
   "source": [
    "mean_squared_error(y_test, y_pred_ts)"
   ]
  },
  {
   "cell_type": "code",
   "execution_count": 58,
   "id": "6d68374e-301f-45ae-9681-58d290a09bfd",
   "metadata": {},
   "outputs": [
    {
     "data": {
      "text/plain": [
       "9.217665286997814"
      ]
     },
     "execution_count": 58,
     "metadata": {},
     "output_type": "execute_result"
    }
   ],
   "source": [
    "np.sqrt(mean_squared_error(y_test, y_pred_ts))"
   ]
  },
  {
   "cell_type": "code",
   "execution_count": 59,
   "id": "1183276e-6ba5-46ed-890f-9f3598c44192",
   "metadata": {},
   "outputs": [],
   "source": [
    "def Eva_Matrix(Model,X, y_true):\n",
    "    y_pred = Model.predict(X)\n",
    "    R2 = r2_score(y_true, y_pred)\n",
    "    MAE = mean_absolute_error(y_true, y_pred)\n",
    "    MSE = mean_squared_error(y_true, y_pred)\n",
    "    RMSE = np.sqrt(MSE)\n",
    "    return R2, MAE, MSE, RMSE"
   ]
  },
  {
   "cell_type": "code",
   "execution_count": 60,
   "id": "bee0388c-98fa-4caf-9680-e569289469d5",
   "metadata": {},
   "outputs": [],
   "source": [
    "r2_train, MAE_train, MSE_train, RMSE_train = Eva_Matrix(Model_1, X_train, y_train)"
   ]
  },
  {
   "cell_type": "code",
   "execution_count": 61,
   "id": "06324513-6a8a-49db-9261-e6871637f815",
   "metadata": {},
   "outputs": [
    {
     "data": {
      "text/plain": [
       "0.001311695445722294"
      ]
     },
     "execution_count": 61,
     "metadata": {},
     "output_type": "execute_result"
    }
   ],
   "source": [
    "r2_train"
   ]
  },
  {
   "cell_type": "code",
   "execution_count": 62,
   "id": "432ecd37-f1c3-4eab-95a6-a82a35bac3e1",
   "metadata": {},
   "outputs": [],
   "source": [
    "r2_test, MAE_test, MSE_test, RMSE_test = Eva_Matrix(Model_1, X_test, y_test)"
   ]
  },
  {
   "cell_type": "code",
   "execution_count": 63,
   "id": "a1bb9f52-686a-4c1c-9662-79d23c8859ba",
   "metadata": {},
   "outputs": [
    {
     "data": {
      "text/plain": [
       "0.0027377484669761643"
      ]
     },
     "execution_count": 63,
     "metadata": {},
     "output_type": "execute_result"
    }
   ],
   "source": [
    "r2_test"
   ]
  },
  {
   "cell_type": "code",
   "execution_count": 64,
   "id": "081ea18b-157b-46b9-91bb-51d0e4de5e5c",
   "metadata": {},
   "outputs": [],
   "source": [
    "data = {\n",
    "    'Training' : [r2_train, MAE_train, MSE_train, RMSE_train],\n",
    "    'Testing' : [r2_test, MAE_test, MSE_test, RMSE_test]\n",
    "}"
   ]
  },
  {
   "cell_type": "code",
   "execution_count": 65,
   "id": "546d6e94-6e1e-4704-b176-6da22ed4e923",
   "metadata": {},
   "outputs": [
    {
     "data": {
      "text/html": [
       "<div>\n",
       "<style scoped>\n",
       "    .dataframe tbody tr th:only-of-type {\n",
       "        vertical-align: middle;\n",
       "    }\n",
       "\n",
       "    .dataframe tbody tr th {\n",
       "        vertical-align: top;\n",
       "    }\n",
       "\n",
       "    .dataframe thead th {\n",
       "        text-align: right;\n",
       "    }\n",
       "</style>\n",
       "<table border=\"1\" class=\"dataframe\">\n",
       "  <thead>\n",
       "    <tr style=\"text-align: right;\">\n",
       "      <th></th>\n",
       "      <th>Training</th>\n",
       "      <th>Testing</th>\n",
       "    </tr>\n",
       "  </thead>\n",
       "  <tbody>\n",
       "    <tr>\n",
       "      <th>R2</th>\n",
       "      <td>0.001312</td>\n",
       "      <td>0.002738</td>\n",
       "    </tr>\n",
       "    <tr>\n",
       "      <th>MAE</th>\n",
       "      <td>6.015018</td>\n",
       "      <td>5.806391</td>\n",
       "    </tr>\n",
       "    <tr>\n",
       "      <th>MSE</th>\n",
       "      <td>92.610078</td>\n",
       "      <td>84.965353</td>\n",
       "    </tr>\n",
       "    <tr>\n",
       "      <th>RMSE</th>\n",
       "      <td>9.623413</td>\n",
       "      <td>9.217665</td>\n",
       "    </tr>\n",
       "  </tbody>\n",
       "</table>\n",
       "</div>"
      ],
      "text/plain": [
       "       Training    Testing\n",
       "R2     0.001312   0.002738\n",
       "MAE    6.015018   5.806391\n",
       "MSE   92.610078  84.965353\n",
       "RMSE   9.623413   9.217665"
      ]
     },
     "execution_count": 65,
     "metadata": {},
     "output_type": "execute_result"
    }
   ],
   "source": [
    "pd.DataFrame(data=data, index = ['R2', 'MAE', 'MSE', 'RMSE'])"
   ]
  },
  {
   "cell_type": "code",
   "execution_count": 66,
   "id": "bcf28290-6599-455d-ae69-b7a7e5528c6b",
   "metadata": {},
   "outputs": [],
   "source": [
    "def Eva_Matrix_DF(Model,X_train, X_test, y_train, y_test, Nama):\n",
    "    y_pred_tr = Model.predict(X_train)\n",
    "    R2_tr = r2_score(y_train, y_pred_tr)\n",
    "    MAE_tr = mean_absolute_error(y_train, y_pred_tr)\n",
    "    MSE_tr = mean_squared_error(y_train, y_pred_tr)\n",
    "    RMSE_tr = np.sqrt(MSE_tr)\n",
    "    y_pred_ts = Model.predict(X_test)\n",
    "    R2_ts = r2_score(y_test, y_pred_ts)\n",
    "    MAE_ts = mean_absolute_error(y_test, y_pred_ts)\n",
    "    MSE_ts = mean_squared_error(y_test, y_pred_ts)\n",
    "    RMSE_ts = np.sqrt(MSE_ts)\n",
    "    data = {\n",
    "        'Training' + Nama : [R2_tr, MAE_tr, MSE_tr, RMSE_tr],\n",
    "        'Testing' + Nama : [R2_ts, MAE_ts, MSE_ts, RMSE_ts]}\n",
    "    df = pd.DataFrame(data=data, index = ['R2', 'MAE', 'MSE', 'RMSE'])\n",
    "    return df"
   ]
  },
  {
   "cell_type": "code",
   "execution_count": 67,
   "id": "c2990644-9902-4fe9-8f88-8c8339d228ff",
   "metadata": {},
   "outputs": [],
   "source": [
    "df_LinReg = Eva_Matrix_DF(Model_1, X_train, X_test, y_train, y_test, 'LinReg')"
   ]
  },
  {
   "cell_type": "code",
   "execution_count": 68,
   "id": "ce467e08-9d9b-4ade-a328-984b94df008c",
   "metadata": {},
   "outputs": [
    {
     "data": {
      "text/html": [
       "<div>\n",
       "<style scoped>\n",
       "    .dataframe tbody tr th:only-of-type {\n",
       "        vertical-align: middle;\n",
       "    }\n",
       "\n",
       "    .dataframe tbody tr th {\n",
       "        vertical-align: top;\n",
       "    }\n",
       "\n",
       "    .dataframe thead th {\n",
       "        text-align: right;\n",
       "    }\n",
       "</style>\n",
       "<table border=\"1\" class=\"dataframe\">\n",
       "  <thead>\n",
       "    <tr style=\"text-align: right;\">\n",
       "      <th></th>\n",
       "      <th>TrainingLinReg</th>\n",
       "      <th>TestingLinReg</th>\n",
       "    </tr>\n",
       "  </thead>\n",
       "  <tbody>\n",
       "    <tr>\n",
       "      <th>R2</th>\n",
       "      <td>0.001312</td>\n",
       "      <td>0.002738</td>\n",
       "    </tr>\n",
       "    <tr>\n",
       "      <th>MAE</th>\n",
       "      <td>6.015018</td>\n",
       "      <td>5.806391</td>\n",
       "    </tr>\n",
       "    <tr>\n",
       "      <th>MSE</th>\n",
       "      <td>92.610078</td>\n",
       "      <td>84.965353</td>\n",
       "    </tr>\n",
       "    <tr>\n",
       "      <th>RMSE</th>\n",
       "      <td>9.623413</td>\n",
       "      <td>9.217665</td>\n",
       "    </tr>\n",
       "  </tbody>\n",
       "</table>\n",
       "</div>"
      ],
      "text/plain": [
       "      TrainingLinReg  TestingLinReg\n",
       "R2          0.001312       0.002738\n",
       "MAE         6.015018       5.806391\n",
       "MSE        92.610078      84.965353\n",
       "RMSE        9.623413       9.217665"
      ]
     },
     "execution_count": 68,
     "metadata": {},
     "output_type": "execute_result"
    }
   ],
   "source": [
    "df_LinReg"
   ]
  },
  {
   "cell_type": "code",
   "execution_count": 69,
   "id": "e6ea7914-5716-40c1-9281-da96cafd329a",
   "metadata": {},
   "outputs": [],
   "source": [
    "Model_2 = Lasso()"
   ]
  },
  {
   "cell_type": "code",
   "execution_count": 70,
   "id": "42329631-b2bc-4b84-95e0-4e9339eaccce",
   "metadata": {},
   "outputs": [
    {
     "data": {
      "text/plain": [
       "Lasso()"
      ]
     },
     "execution_count": 70,
     "metadata": {},
     "output_type": "execute_result"
    }
   ],
   "source": [
    "Model_2.fit(X_train, y_train)"
   ]
  },
  {
   "cell_type": "code",
   "execution_count": 71,
   "id": "572fbb9d-2fe4-4387-a037-1e5cfee31aeb",
   "metadata": {},
   "outputs": [],
   "source": [
    "df_Lasso = Eva_Matrix_DF(Model_2, X_train, X_test, y_train, y_test, 'Lasso')"
   ]
  },
  {
   "cell_type": "code",
   "execution_count": 72,
   "id": "16ea1bd9-22af-48bf-8519-4d06d6f97398",
   "metadata": {},
   "outputs": [
    {
     "data": {
      "text/html": [
       "<div>\n",
       "<style scoped>\n",
       "    .dataframe tbody tr th:only-of-type {\n",
       "        vertical-align: middle;\n",
       "    }\n",
       "\n",
       "    .dataframe tbody tr th {\n",
       "        vertical-align: top;\n",
       "    }\n",
       "\n",
       "    .dataframe thead th {\n",
       "        text-align: right;\n",
       "    }\n",
       "</style>\n",
       "<table border=\"1\" class=\"dataframe\">\n",
       "  <thead>\n",
       "    <tr style=\"text-align: right;\">\n",
       "      <th></th>\n",
       "      <th>TrainingLasso</th>\n",
       "      <th>TestingLasso</th>\n",
       "    </tr>\n",
       "  </thead>\n",
       "  <tbody>\n",
       "    <tr>\n",
       "      <th>R2</th>\n",
       "      <td>0.011036</td>\n",
       "      <td>0.009815</td>\n",
       "    </tr>\n",
       "    <tr>\n",
       "      <th>MAE</th>\n",
       "      <td>5.968452</td>\n",
       "      <td>5.762308</td>\n",
       "    </tr>\n",
       "    <tr>\n",
       "      <th>MSE</th>\n",
       "      <td>91.708313</td>\n",
       "      <td>84.362417</td>\n",
       "    </tr>\n",
       "    <tr>\n",
       "      <th>RMSE</th>\n",
       "      <td>9.576446</td>\n",
       "      <td>9.184902</td>\n",
       "    </tr>\n",
       "  </tbody>\n",
       "</table>\n",
       "</div>"
      ],
      "text/plain": [
       "      TrainingLasso  TestingLasso\n",
       "R2         0.011036      0.009815\n",
       "MAE        5.968452      5.762308\n",
       "MSE       91.708313     84.362417\n",
       "RMSE       9.576446      9.184902"
      ]
     },
     "execution_count": 72,
     "metadata": {},
     "output_type": "execute_result"
    }
   ],
   "source": [
    "df_Lasso"
   ]
  },
  {
   "cell_type": "code",
   "execution_count": 73,
   "id": "22ecad2b-73be-4656-bab2-3a4c97f3a81b",
   "metadata": {},
   "outputs": [
    {
     "data": {
      "text/html": [
       "<div>\n",
       "<style scoped>\n",
       "    .dataframe tbody tr th:only-of-type {\n",
       "        vertical-align: middle;\n",
       "    }\n",
       "\n",
       "    .dataframe tbody tr th {\n",
       "        vertical-align: top;\n",
       "    }\n",
       "\n",
       "    .dataframe thead th {\n",
       "        text-align: right;\n",
       "    }\n",
       "</style>\n",
       "<table border=\"1\" class=\"dataframe\">\n",
       "  <thead>\n",
       "    <tr style=\"text-align: right;\">\n",
       "      <th></th>\n",
       "      <th>TrainingRidge</th>\n",
       "      <th>TestingRidge</th>\n",
       "    </tr>\n",
       "  </thead>\n",
       "  <tbody>\n",
       "    <tr>\n",
       "      <th>R2</th>\n",
       "      <td>0.015828</td>\n",
       "      <td>0.014461</td>\n",
       "    </tr>\n",
       "    <tr>\n",
       "      <th>MAE</th>\n",
       "      <td>5.944604</td>\n",
       "      <td>5.754848</td>\n",
       "    </tr>\n",
       "    <tr>\n",
       "      <th>MSE</th>\n",
       "      <td>91.263949</td>\n",
       "      <td>83.966578</td>\n",
       "    </tr>\n",
       "    <tr>\n",
       "      <th>RMSE</th>\n",
       "      <td>9.553217</td>\n",
       "      <td>9.163328</td>\n",
       "    </tr>\n",
       "  </tbody>\n",
       "</table>\n",
       "</div>"
      ],
      "text/plain": [
       "      TrainingRidge  TestingRidge\n",
       "R2         0.015828      0.014461\n",
       "MAE        5.944604      5.754848\n",
       "MSE       91.263949     83.966578\n",
       "RMSE       9.553217      9.163328"
      ]
     },
     "execution_count": 73,
     "metadata": {},
     "output_type": "execute_result"
    }
   ],
   "source": [
    "model_3 = Ridge()\n",
    "model_3.fit(X_train, y_train)\n",
    "df_Ridge = Eva_Matrix_DF(model_3, X_train, X_test, y_train, y_test, 'Ridge')\n",
    "df_Ridge"
   ]
  },
  {
   "cell_type": "code",
   "execution_count": 74,
   "id": "96702d87-0a56-475d-b782-ee036361f8ef",
   "metadata": {},
   "outputs": [],
   "source": [
    "def Eva_Matrix_Base(model,X_train, X_test, y_train, y_test, Nama):\n",
    "    Model = model.fit(X_train, y_train)\n",
    "    y_pred_tr = Model.predict(X_train)\n",
    "    R2_tr = r2_score(y_train, y_pred_tr)\n",
    "    MAE_tr = mean_absolute_error(y_train, y_pred_tr)\n",
    "    MSE_tr = mean_squared_error(y_train, y_pred_tr)\n",
    "    RMSE_tr = np.sqrt(MSE_tr)\n",
    "    y_pred_ts = Model.predict(X_test)\n",
    "    R2_ts = r2_score(y_test, y_pred_ts)\n",
    "    MAE_ts = mean_absolute_error(y_test, y_pred_ts)\n",
    "    MSE_ts = mean_squared_error(y_test, y_pred_ts)\n",
    "    RMSE_ts = np.sqrt(MSE_ts)\n",
    "    data = {\n",
    "        'Training' + Nama : [R2_tr, MAE_tr, MSE_tr, RMSE_tr],\n",
    "        'Testing' + Nama : [R2_ts, MAE_ts, MSE_ts, RMSE_ts]}\n",
    "    df = pd.DataFrame(data=data, index = ['R2', 'MAE', 'MSE', 'RMSE'])\n",
    "    return df"
   ]
  },
  {
   "cell_type": "code",
   "execution_count": 75,
   "id": "19e30fac-ffda-4b6e-a66d-fa7b698c93e6",
   "metadata": {},
   "outputs": [],
   "source": [
    "df_Enet = Eva_Matrix_Base(ElasticNet(), X_train, X_test, y_train, y_test, 'ElasticNet')"
   ]
  },
  {
   "cell_type": "code",
   "execution_count": 76,
   "id": "81835d70-2f49-4f20-b56b-41e8cf9097a0",
   "metadata": {},
   "outputs": [
    {
     "data": {
      "text/html": [
       "<div>\n",
       "<style scoped>\n",
       "    .dataframe tbody tr th:only-of-type {\n",
       "        vertical-align: middle;\n",
       "    }\n",
       "\n",
       "    .dataframe tbody tr th {\n",
       "        vertical-align: top;\n",
       "    }\n",
       "\n",
       "    .dataframe thead th {\n",
       "        text-align: right;\n",
       "    }\n",
       "</style>\n",
       "<table border=\"1\" class=\"dataframe\">\n",
       "  <thead>\n",
       "    <tr style=\"text-align: right;\">\n",
       "      <th></th>\n",
       "      <th>TrainingElasticNet</th>\n",
       "      <th>TestingElasticNet</th>\n",
       "    </tr>\n",
       "  </thead>\n",
       "  <tbody>\n",
       "    <tr>\n",
       "      <th>R2</th>\n",
       "      <td>0.013552</td>\n",
       "      <td>0.012881</td>\n",
       "    </tr>\n",
       "    <tr>\n",
       "      <th>MAE</th>\n",
       "      <td>5.956093</td>\n",
       "      <td>5.754456</td>\n",
       "    </tr>\n",
       "    <tr>\n",
       "      <th>MSE</th>\n",
       "      <td>91.474975</td>\n",
       "      <td>84.101157</td>\n",
       "    </tr>\n",
       "    <tr>\n",
       "      <th>RMSE</th>\n",
       "      <td>9.564255</td>\n",
       "      <td>9.170668</td>\n",
       "    </tr>\n",
       "  </tbody>\n",
       "</table>\n",
       "</div>"
      ],
      "text/plain": [
       "      TrainingElasticNet  TestingElasticNet\n",
       "R2              0.013552           0.012881\n",
       "MAE             5.956093           5.754456\n",
       "MSE            91.474975          84.101157\n",
       "RMSE            9.564255           9.170668"
      ]
     },
     "execution_count": 76,
     "metadata": {},
     "output_type": "execute_result"
    }
   ],
   "source": [
    "df_Enet"
   ]
  },
  {
   "cell_type": "code",
   "execution_count": 77,
   "id": "1556b71f-39f6-46af-b772-34831e7e0cd9",
   "metadata": {},
   "outputs": [
    {
     "data": {
      "text/html": [
       "<div>\n",
       "<style scoped>\n",
       "    .dataframe tbody tr th:only-of-type {\n",
       "        vertical-align: middle;\n",
       "    }\n",
       "\n",
       "    .dataframe tbody tr th {\n",
       "        vertical-align: top;\n",
       "    }\n",
       "\n",
       "    .dataframe thead th {\n",
       "        text-align: right;\n",
       "    }\n",
       "</style>\n",
       "<table border=\"1\" class=\"dataframe\">\n",
       "  <thead>\n",
       "    <tr style=\"text-align: right;\">\n",
       "      <th></th>\n",
       "      <th>TrainingLinReg</th>\n",
       "      <th>TestingLinReg</th>\n",
       "      <th>TrainingLasso</th>\n",
       "      <th>TestingLasso</th>\n",
       "      <th>TrainingRidge</th>\n",
       "      <th>TestingRidge</th>\n",
       "    </tr>\n",
       "  </thead>\n",
       "  <tbody>\n",
       "    <tr>\n",
       "      <th>R2</th>\n",
       "      <td>0.001312</td>\n",
       "      <td>0.002738</td>\n",
       "      <td>0.011036</td>\n",
       "      <td>0.009815</td>\n",
       "      <td>0.015828</td>\n",
       "      <td>0.014461</td>\n",
       "    </tr>\n",
       "    <tr>\n",
       "      <th>MAE</th>\n",
       "      <td>6.015018</td>\n",
       "      <td>5.806391</td>\n",
       "      <td>5.968452</td>\n",
       "      <td>5.762308</td>\n",
       "      <td>5.944604</td>\n",
       "      <td>5.754848</td>\n",
       "    </tr>\n",
       "    <tr>\n",
       "      <th>MSE</th>\n",
       "      <td>92.610078</td>\n",
       "      <td>84.965353</td>\n",
       "      <td>91.708313</td>\n",
       "      <td>84.362417</td>\n",
       "      <td>91.263949</td>\n",
       "      <td>83.966578</td>\n",
       "    </tr>\n",
       "    <tr>\n",
       "      <th>RMSE</th>\n",
       "      <td>9.623413</td>\n",
       "      <td>9.217665</td>\n",
       "      <td>9.576446</td>\n",
       "      <td>9.184902</td>\n",
       "      <td>9.553217</td>\n",
       "      <td>9.163328</td>\n",
       "    </tr>\n",
       "  </tbody>\n",
       "</table>\n",
       "</div>"
      ],
      "text/plain": [
       "      TrainingLinReg  TestingLinReg  TrainingLasso  TestingLasso  \\\n",
       "R2          0.001312       0.002738       0.011036      0.009815   \n",
       "MAE         6.015018       5.806391       5.968452      5.762308   \n",
       "MSE        92.610078      84.965353      91.708313     84.362417   \n",
       "RMSE        9.623413       9.217665       9.576446      9.184902   \n",
       "\n",
       "      TrainingRidge  TestingRidge  \n",
       "R2         0.015828      0.014461  \n",
       "MAE        5.944604      5.754848  \n",
       "MSE       91.263949     83.966578  \n",
       "RMSE       9.553217      9.163328  "
      ]
     },
     "execution_count": 77,
     "metadata": {},
     "output_type": "execute_result"
    }
   ],
   "source": [
    "pd.concat([df_LinReg, df_Lasso, df_Ridge], axis=1)"
   ]
  },
  {
   "cell_type": "markdown",
   "id": "9d398666-a7e9-47b8-b37f-dd9b9976c370",
   "metadata": {},
   "source": [
    "## Optimize 1\n",
    "- Using Feature Engineering (Polynomial - Polynomial Transformer)"
   ]
  },
  {
   "cell_type": "code",
   "execution_count": 78,
   "id": "6f6b0fee-4838-428a-8d69-fd82cbf773cb",
   "metadata": {},
   "outputs": [
    {
     "data": {
      "text/html": [
       "<div>\n",
       "<style scoped>\n",
       "    .dataframe tbody tr th:only-of-type {\n",
       "        vertical-align: middle;\n",
       "    }\n",
       "\n",
       "    .dataframe tbody tr th {\n",
       "        vertical-align: top;\n",
       "    }\n",
       "\n",
       "    .dataframe thead th {\n",
       "        text-align: right;\n",
       "    }\n",
       "</style>\n",
       "<table border=\"1\" class=\"dataframe\">\n",
       "  <thead>\n",
       "    <tr style=\"text-align: right;\">\n",
       "      <th></th>\n",
       "      <th>passenger_count</th>\n",
       "      <th>year</th>\n",
       "      <th>month</th>\n",
       "      <th>date</th>\n",
       "      <th>day</th>\n",
       "      <th>WeekEnd</th>\n",
       "      <th>distance</th>\n",
       "    </tr>\n",
       "  </thead>\n",
       "  <tbody>\n",
       "    <tr>\n",
       "      <th>7539</th>\n",
       "      <td>1.0</td>\n",
       "      <td>2011</td>\n",
       "      <td>6</td>\n",
       "      <td>14</td>\n",
       "      <td>1</td>\n",
       "      <td>0</td>\n",
       "      <td>0.000000</td>\n",
       "    </tr>\n",
       "    <tr>\n",
       "      <th>578</th>\n",
       "      <td>3.0</td>\n",
       "      <td>2010</td>\n",
       "      <td>3</td>\n",
       "      <td>25</td>\n",
       "      <td>3</td>\n",
       "      <td>0</td>\n",
       "      <td>0.009293</td>\n",
       "    </tr>\n",
       "    <tr>\n",
       "      <th>8056</th>\n",
       "      <td>5.0</td>\n",
       "      <td>2010</td>\n",
       "      <td>4</td>\n",
       "      <td>12</td>\n",
       "      <td>0</td>\n",
       "      <td>0</td>\n",
       "      <td>0.048951</td>\n",
       "    </tr>\n",
       "    <tr>\n",
       "      <th>11761</th>\n",
       "      <td>1.0</td>\n",
       "      <td>2014</td>\n",
       "      <td>11</td>\n",
       "      <td>17</td>\n",
       "      <td>0</td>\n",
       "      <td>0</td>\n",
       "      <td>0.021735</td>\n",
       "    </tr>\n",
       "    <tr>\n",
       "      <th>15531</th>\n",
       "      <td>1.0</td>\n",
       "      <td>2012</td>\n",
       "      <td>12</td>\n",
       "      <td>29</td>\n",
       "      <td>5</td>\n",
       "      <td>1</td>\n",
       "      <td>0.010498</td>\n",
       "    </tr>\n",
       "  </tbody>\n",
       "</table>\n",
       "</div>"
      ],
      "text/plain": [
       "       passenger_count  year  month  date  day  WeekEnd  distance\n",
       "7539               1.0  2011      6    14    1        0  0.000000\n",
       "578                3.0  2010      3    25    3        0  0.009293\n",
       "8056               5.0  2010      4    12    0        0  0.048951\n",
       "11761              1.0  2014     11    17    0        0  0.021735\n",
       "15531              1.0  2012     12    29    5        1  0.010498"
      ]
     },
     "execution_count": 78,
     "metadata": {},
     "output_type": "execute_result"
    }
   ],
   "source": [
    "X_train.head()"
   ]
  },
  {
   "cell_type": "code",
   "execution_count": 79,
   "id": "551fbed7-c421-4be2-94c1-d45db403f3bf",
   "metadata": {},
   "outputs": [],
   "source": [
    "## Feature Engineering"
   ]
  },
  {
   "cell_type": "code",
   "execution_count": 80,
   "id": "720be6c3-6215-4eb8-ad04-a501a46e0719",
   "metadata": {},
   "outputs": [],
   "source": [
    "from sklearn.preprocessing import PolynomialFeatures, PowerTransformer"
   ]
  },
  {
   "cell_type": "code",
   "execution_count": 81,
   "id": "a00f2183-adcb-48f8-afc8-d435e28a1c65",
   "metadata": {},
   "outputs": [],
   "source": [
    "poly = PolynomialFeatures(degree=3, include_bias=False)"
   ]
  },
  {
   "cell_type": "code",
   "execution_count": 82,
   "id": "86ac9d79-c98a-4a08-868e-91f399d86595",
   "metadata": {},
   "outputs": [],
   "source": [
    "### Power Transformer"
   ]
  },
  {
   "cell_type": "code",
   "execution_count": 83,
   "id": "5612ae22-c98a-4573-9f06-8512fbc06801",
   "metadata": {},
   "outputs": [],
   "source": [
    "yeo_pow = PowerTransformer(method='yeo-johnson')"
   ]
  },
  {
   "cell_type": "code",
   "execution_count": 84,
   "id": "bdf5a7f6-5bbb-4aaa-b5ae-cc74d90ba777",
   "metadata": {},
   "outputs": [],
   "source": [
    "num_col = df[['passenger_count', 'distance', 'year']]"
   ]
  },
  {
   "cell_type": "code",
   "execution_count": 85,
   "id": "25680f25-a5df-41f6-b89e-89208043184a",
   "metadata": {},
   "outputs": [],
   "source": [
    "num_poly = poly.fit_transform(num_col)"
   ]
  },
  {
   "cell_type": "code",
   "execution_count": 86,
   "id": "e3efaaa5-3d8c-407a-9ebc-9ea5a1ae6b60",
   "metadata": {},
   "outputs": [],
   "source": [
    "num_pow = yeo_pow.fit_transform(num_poly)"
   ]
  },
  {
   "cell_type": "code",
   "execution_count": 87,
   "id": "2098ee89-3dd2-4bd4-a01e-e010953d7e9f",
   "metadata": {},
   "outputs": [],
   "source": [
    "df_pow = pd.DataFrame(num_pow)"
   ]
  },
  {
   "cell_type": "code",
   "execution_count": 88,
   "id": "93c0b8ee-d10a-461d-9e41-1f4f270fde68",
   "metadata": {},
   "outputs": [
    {
     "data": {
      "text/html": [
       "<div>\n",
       "<style scoped>\n",
       "    .dataframe tbody tr th:only-of-type {\n",
       "        vertical-align: middle;\n",
       "    }\n",
       "\n",
       "    .dataframe tbody tr th {\n",
       "        vertical-align: top;\n",
       "    }\n",
       "\n",
       "    .dataframe thead th {\n",
       "        text-align: right;\n",
       "    }\n",
       "</style>\n",
       "<table border=\"1\" class=\"dataframe\">\n",
       "  <thead>\n",
       "    <tr style=\"text-align: right;\">\n",
       "      <th></th>\n",
       "      <th>0</th>\n",
       "      <th>1</th>\n",
       "      <th>2</th>\n",
       "      <th>3</th>\n",
       "      <th>4</th>\n",
       "      <th>5</th>\n",
       "      <th>6</th>\n",
       "      <th>7</th>\n",
       "      <th>8</th>\n",
       "      <th>9</th>\n",
       "      <th>10</th>\n",
       "      <th>11</th>\n",
       "      <th>12</th>\n",
       "      <th>13</th>\n",
       "      <th>14</th>\n",
       "      <th>15</th>\n",
       "      <th>16</th>\n",
       "      <th>17</th>\n",
       "      <th>18</th>\n",
       "    </tr>\n",
       "  </thead>\n",
       "  <tbody>\n",
       "    <tr>\n",
       "      <th>0</th>\n",
       "      <td>-0.541042</td>\n",
       "      <td>-1.053236</td>\n",
       "      <td>1.0</td>\n",
       "      <td>-0.600677</td>\n",
       "      <td>-1.081936</td>\n",
       "      <td>-0.514831</td>\n",
       "      <td>-0.495979</td>\n",
       "      <td>-0.882452</td>\n",
       "      <td>-1.012162</td>\n",
       "      <td>-0.623728</td>\n",
       "      <td>-0.941961</td>\n",
       "      <td>-0.513990</td>\n",
       "      <td>-0.538653</td>\n",
       "      <td>-0.983503</td>\n",
       "      <td>-0.518532</td>\n",
       "      <td>-0.197541</td>\n",
       "      <td>-1.184868</td>\n",
       "      <td>-0.717414</td>\n",
       "      <td>-1.0</td>\n",
       "    </tr>\n",
       "    <tr>\n",
       "      <th>1</th>\n",
       "      <td>-0.541042</td>\n",
       "      <td>1.878846</td>\n",
       "      <td>1.0</td>\n",
       "      <td>-0.600677</td>\n",
       "      <td>1.278273</td>\n",
       "      <td>-0.514100</td>\n",
       "      <td>1.767568</td>\n",
       "      <td>1.333108</td>\n",
       "      <td>-1.007354</td>\n",
       "      <td>-0.623728</td>\n",
       "      <td>0.626139</td>\n",
       "      <td>-0.513574</td>\n",
       "      <td>1.257450</td>\n",
       "      <td>0.956526</td>\n",
       "      <td>-0.517123</td>\n",
       "      <td>0.506135</td>\n",
       "      <td>1.663864</td>\n",
       "      <td>1.212546</td>\n",
       "      <td>-1.0</td>\n",
       "    </tr>\n",
       "    <tr>\n",
       "      <th>2</th>\n",
       "      <td>0.914194</td>\n",
       "      <td>-0.377609</td>\n",
       "      <td>1.0</td>\n",
       "      <td>1.185880</td>\n",
       "      <td>0.003999</td>\n",
       "      <td>0.577272</td>\n",
       "      <td>-0.420281</td>\n",
       "      <td>-0.076170</td>\n",
       "      <td>-1.003146</td>\n",
       "      <td>1.262003</td>\n",
       "      <td>0.270707</td>\n",
       "      <td>0.646762</td>\n",
       "      <td>-0.409884</td>\n",
       "      <td>0.200604</td>\n",
       "      <td>0.557731</td>\n",
       "      <td>-0.193578</td>\n",
       "      <td>-0.382919</td>\n",
       "      <td>-0.073011</td>\n",
       "      <td>-1.0</td>\n",
       "    </tr>\n",
       "    <tr>\n",
       "      <th>3</th>\n",
       "      <td>-0.541042</td>\n",
       "      <td>-0.316858</td>\n",
       "      <td>1.0</td>\n",
       "      <td>-0.600677</td>\n",
       "      <td>-0.547070</td>\n",
       "      <td>-0.512641</td>\n",
       "      <td>-0.408462</td>\n",
       "      <td>-0.025478</td>\n",
       "      <td>-0.998939</td>\n",
       "      <td>-0.623728</td>\n",
       "      <td>-0.641979</td>\n",
       "      <td>-0.512742</td>\n",
       "      <td>-0.468091</td>\n",
       "      <td>-0.233355</td>\n",
       "      <td>-0.514305</td>\n",
       "      <td>-0.192686</td>\n",
       "      <td>-0.298870</td>\n",
       "      <td>-0.030280</td>\n",
       "      <td>-1.0</td>\n",
       "    </tr>\n",
       "    <tr>\n",
       "      <th>4</th>\n",
       "      <td>-0.541042</td>\n",
       "      <td>-0.023812</td>\n",
       "      <td>1.0</td>\n",
       "      <td>-0.600677</td>\n",
       "      <td>-0.326710</td>\n",
       "      <td>-0.514100</td>\n",
       "      <td>-0.335893</td>\n",
       "      <td>0.193551</td>\n",
       "      <td>-1.007354</td>\n",
       "      <td>-0.623728</td>\n",
       "      <td>-0.511800</td>\n",
       "      <td>-0.513574</td>\n",
       "      <td>-0.409645</td>\n",
       "      <td>-0.041577</td>\n",
       "      <td>-0.517123</td>\n",
       "      <td>-0.186034</td>\n",
       "      <td>0.091814</td>\n",
       "      <td>0.155342</td>\n",
       "      <td>-1.0</td>\n",
       "    </tr>\n",
       "  </tbody>\n",
       "</table>\n",
       "</div>"
      ],
      "text/plain": [
       "         0         1    2         3         4         5         6         7   \\\n",
       "0 -0.541042 -1.053236  1.0 -0.600677 -1.081936 -0.514831 -0.495979 -0.882452   \n",
       "1 -0.541042  1.878846  1.0 -0.600677  1.278273 -0.514100  1.767568  1.333108   \n",
       "2  0.914194 -0.377609  1.0  1.185880  0.003999  0.577272 -0.420281 -0.076170   \n",
       "3 -0.541042 -0.316858  1.0 -0.600677 -0.547070 -0.512641 -0.408462 -0.025478   \n",
       "4 -0.541042 -0.023812  1.0 -0.600677 -0.326710 -0.514100 -0.335893  0.193551   \n",
       "\n",
       "         8         9         10        11        12        13        14  \\\n",
       "0 -1.012162 -0.623728 -0.941961 -0.513990 -0.538653 -0.983503 -0.518532   \n",
       "1 -1.007354 -0.623728  0.626139 -0.513574  1.257450  0.956526 -0.517123   \n",
       "2 -1.003146  1.262003  0.270707  0.646762 -0.409884  0.200604  0.557731   \n",
       "3 -0.998939 -0.623728 -0.641979 -0.512742 -0.468091 -0.233355 -0.514305   \n",
       "4 -1.007354 -0.623728 -0.511800 -0.513574 -0.409645 -0.041577 -0.517123   \n",
       "\n",
       "         15        16        17   18  \n",
       "0 -0.197541 -1.184868 -0.717414 -1.0  \n",
       "1  0.506135  1.663864  1.212546 -1.0  \n",
       "2 -0.193578 -0.382919 -0.073011 -1.0  \n",
       "3 -0.192686 -0.298870 -0.030280 -1.0  \n",
       "4 -0.186034  0.091814  0.155342 -1.0  "
      ]
     },
     "execution_count": 88,
     "metadata": {},
     "output_type": "execute_result"
    }
   ],
   "source": [
    "df_pow.head()"
   ]
  },
  {
   "cell_type": "code",
   "execution_count": 89,
   "id": "b0251dff-6061-4417-be93-3f18c4896c0f",
   "metadata": {},
   "outputs": [
    {
     "data": {
      "text/html": [
       "<div>\n",
       "<style scoped>\n",
       "    .dataframe tbody tr th:only-of-type {\n",
       "        vertical-align: middle;\n",
       "    }\n",
       "\n",
       "    .dataframe tbody tr th {\n",
       "        vertical-align: top;\n",
       "    }\n",
       "\n",
       "    .dataframe thead th {\n",
       "        text-align: right;\n",
       "    }\n",
       "</style>\n",
       "<table border=\"1\" class=\"dataframe\">\n",
       "  <thead>\n",
       "    <tr style=\"text-align: right;\">\n",
       "      <th></th>\n",
       "      <th>fare_amount</th>\n",
       "      <th>passenger_count</th>\n",
       "      <th>year</th>\n",
       "      <th>month</th>\n",
       "      <th>date</th>\n",
       "      <th>day</th>\n",
       "      <th>WeekEnd</th>\n",
       "      <th>distance</th>\n",
       "    </tr>\n",
       "  </thead>\n",
       "  <tbody>\n",
       "    <tr>\n",
       "      <th>0</th>\n",
       "      <td>4.5</td>\n",
       "      <td>1.0</td>\n",
       "      <td>2009</td>\n",
       "      <td>6</td>\n",
       "      <td>15</td>\n",
       "      <td>0</td>\n",
       "      <td>0</td>\n",
       "      <td>0.006340</td>\n",
       "    </tr>\n",
       "    <tr>\n",
       "      <th>1</th>\n",
       "      <td>16.9</td>\n",
       "      <td>1.0</td>\n",
       "      <td>2010</td>\n",
       "      <td>1</td>\n",
       "      <td>5</td>\n",
       "      <td>1</td>\n",
       "      <td>0</td>\n",
       "      <td>0.107481</td>\n",
       "    </tr>\n",
       "    <tr>\n",
       "      <th>2</th>\n",
       "      <td>5.7</td>\n",
       "      <td>2.0</td>\n",
       "      <td>2011</td>\n",
       "      <td>8</td>\n",
       "      <td>18</td>\n",
       "      <td>3</td>\n",
       "      <td>0</td>\n",
       "      <td>0.019212</td>\n",
       "    </tr>\n",
       "    <tr>\n",
       "      <th>3</th>\n",
       "      <td>7.7</td>\n",
       "      <td>1.0</td>\n",
       "      <td>2012</td>\n",
       "      <td>4</td>\n",
       "      <td>21</td>\n",
       "      <td>5</td>\n",
       "      <td>1</td>\n",
       "      <td>0.020512</td>\n",
       "    </tr>\n",
       "    <tr>\n",
       "      <th>4</th>\n",
       "      <td>5.3</td>\n",
       "      <td>1.0</td>\n",
       "      <td>2010</td>\n",
       "      <td>3</td>\n",
       "      <td>9</td>\n",
       "      <td>1</td>\n",
       "      <td>0</td>\n",
       "      <td>0.027194</td>\n",
       "    </tr>\n",
       "  </tbody>\n",
       "</table>\n",
       "</div>"
      ],
      "text/plain": [
       "   fare_amount  passenger_count  year  month  date  day  WeekEnd  distance\n",
       "0          4.5              1.0  2009      6    15    0        0  0.006340\n",
       "1         16.9              1.0  2010      1     5    1        0  0.107481\n",
       "2          5.7              2.0  2011      8    18    3        0  0.019212\n",
       "3          7.7              1.0  2012      4    21    5        1  0.020512\n",
       "4          5.3              1.0  2010      3     9    1        0  0.027194"
      ]
     },
     "execution_count": 89,
     "metadata": {},
     "output_type": "execute_result"
    }
   ],
   "source": [
    "df.head()"
   ]
  },
  {
   "cell_type": "code",
   "execution_count": 90,
   "id": "40e4571e-1b15-4a2e-ab4b-b7c248e27a16",
   "metadata": {},
   "outputs": [
    {
     "data": {
      "text/html": [
       "<div>\n",
       "<style scoped>\n",
       "    .dataframe tbody tr th:only-of-type {\n",
       "        vertical-align: middle;\n",
       "    }\n",
       "\n",
       "    .dataframe tbody tr th {\n",
       "        vertical-align: top;\n",
       "    }\n",
       "\n",
       "    .dataframe thead th {\n",
       "        text-align: right;\n",
       "    }\n",
       "</style>\n",
       "<table border=\"1\" class=\"dataframe\">\n",
       "  <thead>\n",
       "    <tr style=\"text-align: right;\">\n",
       "      <th></th>\n",
       "      <th>fare_amount</th>\n",
       "      <th>month</th>\n",
       "      <th>date</th>\n",
       "      <th>day</th>\n",
       "      <th>WeekEnd</th>\n",
       "      <th>0</th>\n",
       "      <th>1</th>\n",
       "      <th>2</th>\n",
       "      <th>3</th>\n",
       "      <th>4</th>\n",
       "      <th>...</th>\n",
       "      <th>9</th>\n",
       "      <th>10</th>\n",
       "      <th>11</th>\n",
       "      <th>12</th>\n",
       "      <th>13</th>\n",
       "      <th>14</th>\n",
       "      <th>15</th>\n",
       "      <th>16</th>\n",
       "      <th>17</th>\n",
       "      <th>18</th>\n",
       "    </tr>\n",
       "  </thead>\n",
       "  <tbody>\n",
       "    <tr>\n",
       "      <th>0</th>\n",
       "      <td>4.5</td>\n",
       "      <td>6</td>\n",
       "      <td>15</td>\n",
       "      <td>0</td>\n",
       "      <td>0</td>\n",
       "      <td>-0.541042</td>\n",
       "      <td>-1.053236</td>\n",
       "      <td>1.0</td>\n",
       "      <td>-0.600677</td>\n",
       "      <td>-1.081936</td>\n",
       "      <td>...</td>\n",
       "      <td>-0.623728</td>\n",
       "      <td>-0.941961</td>\n",
       "      <td>-0.513990</td>\n",
       "      <td>-0.538653</td>\n",
       "      <td>-0.983503</td>\n",
       "      <td>-0.518532</td>\n",
       "      <td>-0.197541</td>\n",
       "      <td>-1.184868</td>\n",
       "      <td>-0.717414</td>\n",
       "      <td>-1.0</td>\n",
       "    </tr>\n",
       "    <tr>\n",
       "      <th>1</th>\n",
       "      <td>16.9</td>\n",
       "      <td>1</td>\n",
       "      <td>5</td>\n",
       "      <td>1</td>\n",
       "      <td>0</td>\n",
       "      <td>-0.541042</td>\n",
       "      <td>1.878846</td>\n",
       "      <td>1.0</td>\n",
       "      <td>-0.600677</td>\n",
       "      <td>1.278273</td>\n",
       "      <td>...</td>\n",
       "      <td>-0.623728</td>\n",
       "      <td>0.626139</td>\n",
       "      <td>-0.513574</td>\n",
       "      <td>1.257450</td>\n",
       "      <td>0.956526</td>\n",
       "      <td>-0.517123</td>\n",
       "      <td>0.506135</td>\n",
       "      <td>1.663864</td>\n",
       "      <td>1.212546</td>\n",
       "      <td>-1.0</td>\n",
       "    </tr>\n",
       "    <tr>\n",
       "      <th>2</th>\n",
       "      <td>5.7</td>\n",
       "      <td>8</td>\n",
       "      <td>18</td>\n",
       "      <td>3</td>\n",
       "      <td>0</td>\n",
       "      <td>0.914194</td>\n",
       "      <td>-0.377609</td>\n",
       "      <td>1.0</td>\n",
       "      <td>1.185880</td>\n",
       "      <td>0.003999</td>\n",
       "      <td>...</td>\n",
       "      <td>1.262003</td>\n",
       "      <td>0.270707</td>\n",
       "      <td>0.646762</td>\n",
       "      <td>-0.409884</td>\n",
       "      <td>0.200604</td>\n",
       "      <td>0.557731</td>\n",
       "      <td>-0.193578</td>\n",
       "      <td>-0.382919</td>\n",
       "      <td>-0.073011</td>\n",
       "      <td>-1.0</td>\n",
       "    </tr>\n",
       "    <tr>\n",
       "      <th>3</th>\n",
       "      <td>7.7</td>\n",
       "      <td>4</td>\n",
       "      <td>21</td>\n",
       "      <td>5</td>\n",
       "      <td>1</td>\n",
       "      <td>-0.541042</td>\n",
       "      <td>-0.316858</td>\n",
       "      <td>1.0</td>\n",
       "      <td>-0.600677</td>\n",
       "      <td>-0.547070</td>\n",
       "      <td>...</td>\n",
       "      <td>-0.623728</td>\n",
       "      <td>-0.641979</td>\n",
       "      <td>-0.512742</td>\n",
       "      <td>-0.468091</td>\n",
       "      <td>-0.233355</td>\n",
       "      <td>-0.514305</td>\n",
       "      <td>-0.192686</td>\n",
       "      <td>-0.298870</td>\n",
       "      <td>-0.030280</td>\n",
       "      <td>-1.0</td>\n",
       "    </tr>\n",
       "    <tr>\n",
       "      <th>4</th>\n",
       "      <td>5.3</td>\n",
       "      <td>3</td>\n",
       "      <td>9</td>\n",
       "      <td>1</td>\n",
       "      <td>0</td>\n",
       "      <td>-0.541042</td>\n",
       "      <td>-0.023812</td>\n",
       "      <td>1.0</td>\n",
       "      <td>-0.600677</td>\n",
       "      <td>-0.326710</td>\n",
       "      <td>...</td>\n",
       "      <td>-0.623728</td>\n",
       "      <td>-0.511800</td>\n",
       "      <td>-0.513574</td>\n",
       "      <td>-0.409645</td>\n",
       "      <td>-0.041577</td>\n",
       "      <td>-0.517123</td>\n",
       "      <td>-0.186034</td>\n",
       "      <td>0.091814</td>\n",
       "      <td>0.155342</td>\n",
       "      <td>-1.0</td>\n",
       "    </tr>\n",
       "  </tbody>\n",
       "</table>\n",
       "<p>5 rows × 24 columns</p>\n",
       "</div>"
      ],
      "text/plain": [
       "   fare_amount  month  date  day  WeekEnd         0         1    2         3  \\\n",
       "0          4.5      6    15    0        0 -0.541042 -1.053236  1.0 -0.600677   \n",
       "1         16.9      1     5    1        0 -0.541042  1.878846  1.0 -0.600677   \n",
       "2          5.7      8    18    3        0  0.914194 -0.377609  1.0  1.185880   \n",
       "3          7.7      4    21    5        1 -0.541042 -0.316858  1.0 -0.600677   \n",
       "4          5.3      3     9    1        0 -0.541042 -0.023812  1.0 -0.600677   \n",
       "\n",
       "          4  ...         9        10        11        12        13        14  \\\n",
       "0 -1.081936  ... -0.623728 -0.941961 -0.513990 -0.538653 -0.983503 -0.518532   \n",
       "1  1.278273  ... -0.623728  0.626139 -0.513574  1.257450  0.956526 -0.517123   \n",
       "2  0.003999  ...  1.262003  0.270707  0.646762 -0.409884  0.200604  0.557731   \n",
       "3 -0.547070  ... -0.623728 -0.641979 -0.512742 -0.468091 -0.233355 -0.514305   \n",
       "4 -0.326710  ... -0.623728 -0.511800 -0.513574 -0.409645 -0.041577 -0.517123   \n",
       "\n",
       "         15        16        17   18  \n",
       "0 -0.197541 -1.184868 -0.717414 -1.0  \n",
       "1  0.506135  1.663864  1.212546 -1.0  \n",
       "2 -0.193578 -0.382919 -0.073011 -1.0  \n",
       "3 -0.192686 -0.298870 -0.030280 -1.0  \n",
       "4 -0.186034  0.091814  0.155342 -1.0  \n",
       "\n",
       "[5 rows x 24 columns]"
      ]
     },
     "execution_count": 90,
     "metadata": {},
     "output_type": "execute_result"
    }
   ],
   "source": [
    "df_1 = pd.concat([df.drop(columns=['passenger_count', 'year', 'distance']), df_pow], axis=1)\n",
    "df_1.head()"
   ]
  },
  {
   "cell_type": "code",
   "execution_count": 91,
   "id": "4e0a6913-c612-4ad5-abbd-b9b232125765",
   "metadata": {},
   "outputs": [],
   "source": [
    "X_1 = df_1.drop(columns='fare_amount')\n",
    "y_1 = df_1['fare_amount']"
   ]
  },
  {
   "cell_type": "code",
   "execution_count": 92,
   "id": "21fea6b6-c3bd-4953-a582-d523fcd70691",
   "metadata": {},
   "outputs": [],
   "source": [
    "X_train_1, X_test_1, y_train_1, y_test_1 = train_test_split(X_1, y_1, train_size = .80, random_state=42)"
   ]
  },
  {
   "cell_type": "code",
   "execution_count": 93,
   "id": "26ec39e6-b582-4798-aa92-2a23af7ac28d",
   "metadata": {},
   "outputs": [],
   "source": [
    "df_LinReg2 = Eva_Matrix_Base(LinearRegression(fit_intercept=False),\n",
    "                             X_train_1, X_test_1, y_train_1, y_test_1, 'LinReg 2')"
   ]
  },
  {
   "cell_type": "code",
   "execution_count": 94,
   "id": "5bb05bdc-80a9-4887-a051-280b25d4778c",
   "metadata": {},
   "outputs": [
    {
     "data": {
      "text/html": [
       "<div>\n",
       "<style scoped>\n",
       "    .dataframe tbody tr th:only-of-type {\n",
       "        vertical-align: middle;\n",
       "    }\n",
       "\n",
       "    .dataframe tbody tr th {\n",
       "        vertical-align: top;\n",
       "    }\n",
       "\n",
       "    .dataframe thead th {\n",
       "        text-align: right;\n",
       "    }\n",
       "</style>\n",
       "<table border=\"1\" class=\"dataframe\">\n",
       "  <thead>\n",
       "    <tr style=\"text-align: right;\">\n",
       "      <th></th>\n",
       "      <th>TrainingLinReg 2</th>\n",
       "      <th>TestingLinReg 2</th>\n",
       "    </tr>\n",
       "  </thead>\n",
       "  <tbody>\n",
       "    <tr>\n",
       "      <th>R2</th>\n",
       "      <td>0.496645</td>\n",
       "      <td>0.520874</td>\n",
       "    </tr>\n",
       "    <tr>\n",
       "      <th>MAE</th>\n",
       "      <td>3.581647</td>\n",
       "      <td>3.476394</td>\n",
       "    </tr>\n",
       "    <tr>\n",
       "      <th>MSE</th>\n",
       "      <td>46.676999</td>\n",
       "      <td>40.820865</td>\n",
       "    </tr>\n",
       "    <tr>\n",
       "      <th>RMSE</th>\n",
       "      <td>6.832057</td>\n",
       "      <td>6.389121</td>\n",
       "    </tr>\n",
       "  </tbody>\n",
       "</table>\n",
       "</div>"
      ],
      "text/plain": [
       "      TrainingLinReg 2  TestingLinReg 2\n",
       "R2            0.496645         0.520874\n",
       "MAE           3.581647         3.476394\n",
       "MSE          46.676999        40.820865\n",
       "RMSE          6.832057         6.389121"
      ]
     },
     "execution_count": 94,
     "metadata": {},
     "output_type": "execute_result"
    }
   ],
   "source": [
    "df_LinReg2"
   ]
  },
  {
   "cell_type": "markdown",
   "id": "b32d2c96-85bb-40cb-abdb-ab6cadc176af",
   "metadata": {},
   "source": [
    "### Optimize 2\n",
    "- Using Feature Engineering + Others Algorithm"
   ]
  },
  {
   "cell_type": "code",
   "execution_count": 95,
   "id": "cb49cc2e-e91f-4733-8fe0-af0f71653599",
   "metadata": {},
   "outputs": [
    {
     "data": {
      "text/html": [
       "<div>\n",
       "<style scoped>\n",
       "    .dataframe tbody tr th:only-of-type {\n",
       "        vertical-align: middle;\n",
       "    }\n",
       "\n",
       "    .dataframe tbody tr th {\n",
       "        vertical-align: top;\n",
       "    }\n",
       "\n",
       "    .dataframe thead th {\n",
       "        text-align: right;\n",
       "    }\n",
       "</style>\n",
       "<table border=\"1\" class=\"dataframe\">\n",
       "  <thead>\n",
       "    <tr style=\"text-align: right;\">\n",
       "      <th></th>\n",
       "      <th>TrainingRidge 2</th>\n",
       "      <th>TestingRidge 2</th>\n",
       "    </tr>\n",
       "  </thead>\n",
       "  <tbody>\n",
       "    <tr>\n",
       "      <th>R2</th>\n",
       "      <td>0.493299</td>\n",
       "      <td>0.516700</td>\n",
       "    </tr>\n",
       "    <tr>\n",
       "      <th>MAE</th>\n",
       "      <td>3.570480</td>\n",
       "      <td>3.465919</td>\n",
       "    </tr>\n",
       "    <tr>\n",
       "      <th>MSE</th>\n",
       "      <td>46.987247</td>\n",
       "      <td>41.176502</td>\n",
       "    </tr>\n",
       "    <tr>\n",
       "      <th>RMSE</th>\n",
       "      <td>6.854724</td>\n",
       "      <td>6.416892</td>\n",
       "    </tr>\n",
       "  </tbody>\n",
       "</table>\n",
       "</div>"
      ],
      "text/plain": [
       "      TrainingRidge 2  TestingRidge 2\n",
       "R2           0.493299        0.516700\n",
       "MAE          3.570480        3.465919\n",
       "MSE         46.987247       41.176502\n",
       "RMSE         6.854724        6.416892"
      ]
     },
     "execution_count": 95,
     "metadata": {},
     "output_type": "execute_result"
    }
   ],
   "source": [
    "df_Ridge2 = Eva_Matrix_Base(Ridge(),\n",
    "                             X_train_1, X_test_1, y_train_1, y_test_1, 'Ridge 2')\n",
    "df_Ridge2"
   ]
  },
  {
   "cell_type": "code",
   "execution_count": 96,
   "id": "f676a2c3-6e3a-4748-9f50-b986fb018f17",
   "metadata": {},
   "outputs": [
    {
     "data": {
      "text/html": [
       "<div>\n",
       "<style scoped>\n",
       "    .dataframe tbody tr th:only-of-type {\n",
       "        vertical-align: middle;\n",
       "    }\n",
       "\n",
       "    .dataframe tbody tr th {\n",
       "        vertical-align: top;\n",
       "    }\n",
       "\n",
       "    .dataframe thead th {\n",
       "        text-align: right;\n",
       "    }\n",
       "</style>\n",
       "<table border=\"1\" class=\"dataframe\">\n",
       "  <thead>\n",
       "    <tr style=\"text-align: right;\">\n",
       "      <th></th>\n",
       "      <th>TrainingLasso 2</th>\n",
       "      <th>TestingLasso 2</th>\n",
       "    </tr>\n",
       "  </thead>\n",
       "  <tbody>\n",
       "    <tr>\n",
       "      <th>R2</th>\n",
       "      <td>0.416314</td>\n",
       "      <td>0.437808</td>\n",
       "    </tr>\n",
       "    <tr>\n",
       "      <th>MAE</th>\n",
       "      <td>3.896836</td>\n",
       "      <td>3.778208</td>\n",
       "    </tr>\n",
       "    <tr>\n",
       "      <th>MSE</th>\n",
       "      <td>54.126178</td>\n",
       "      <td>47.897958</td>\n",
       "    </tr>\n",
       "    <tr>\n",
       "      <th>RMSE</th>\n",
       "      <td>7.357050</td>\n",
       "      <td>6.920835</td>\n",
       "    </tr>\n",
       "  </tbody>\n",
       "</table>\n",
       "</div>"
      ],
      "text/plain": [
       "      TrainingLasso 2  TestingLasso 2\n",
       "R2           0.416314        0.437808\n",
       "MAE          3.896836        3.778208\n",
       "MSE         54.126178       47.897958\n",
       "RMSE         7.357050        6.920835"
      ]
     },
     "execution_count": 96,
     "metadata": {},
     "output_type": "execute_result"
    }
   ],
   "source": [
    "df_Lasso2 = Eva_Matrix_Base(Lasso(),\n",
    "                             X_train_1, X_test_1, y_train_1, y_test_1, 'Lasso 2')\n",
    "df_Lasso2"
   ]
  },
  {
   "cell_type": "code",
   "execution_count": 97,
   "id": "8a41412f-269a-4d05-bbee-1bafc6ea0158",
   "metadata": {},
   "outputs": [
    {
     "data": {
      "text/html": [
       "<div>\n",
       "<style scoped>\n",
       "    .dataframe tbody tr th:only-of-type {\n",
       "        vertical-align: middle;\n",
       "    }\n",
       "\n",
       "    .dataframe tbody tr th {\n",
       "        vertical-align: top;\n",
       "    }\n",
       "\n",
       "    .dataframe thead th {\n",
       "        text-align: right;\n",
       "    }\n",
       "</style>\n",
       "<table border=\"1\" class=\"dataframe\">\n",
       "  <thead>\n",
       "    <tr style=\"text-align: right;\">\n",
       "      <th></th>\n",
       "      <th>TrainingElasticNet 2</th>\n",
       "      <th>TestingElasticNet 2</th>\n",
       "    </tr>\n",
       "  </thead>\n",
       "  <tbody>\n",
       "    <tr>\n",
       "      <th>R2</th>\n",
       "      <td>0.407576</td>\n",
       "      <td>0.425610</td>\n",
       "    </tr>\n",
       "    <tr>\n",
       "      <th>MAE</th>\n",
       "      <td>3.968117</td>\n",
       "      <td>3.861302</td>\n",
       "    </tr>\n",
       "    <tr>\n",
       "      <th>MSE</th>\n",
       "      <td>54.936520</td>\n",
       "      <td>48.937248</td>\n",
       "    </tr>\n",
       "    <tr>\n",
       "      <th>RMSE</th>\n",
       "      <td>7.411917</td>\n",
       "      <td>6.995516</td>\n",
       "    </tr>\n",
       "  </tbody>\n",
       "</table>\n",
       "</div>"
      ],
      "text/plain": [
       "      TrainingElasticNet 2  TestingElasticNet 2\n",
       "R2                0.407576             0.425610\n",
       "MAE               3.968117             3.861302\n",
       "MSE              54.936520            48.937248\n",
       "RMSE              7.411917             6.995516"
      ]
     },
     "execution_count": 97,
     "metadata": {},
     "output_type": "execute_result"
    }
   ],
   "source": [
    "df_Enet2 = Eva_Matrix_Base(ElasticNet(),\n",
    "                             X_train_1, X_test_1, y_train_1, y_test_1, 'ElasticNet 2')\n",
    "df_Enet2"
   ]
  },
  {
   "cell_type": "code",
   "execution_count": 98,
   "id": "9e9b6e66-57c9-48c5-a311-c95d67e34dac",
   "metadata": {},
   "outputs": [
    {
     "data": {
      "text/html": [
       "<div>\n",
       "<style scoped>\n",
       "    .dataframe tbody tr th:only-of-type {\n",
       "        vertical-align: middle;\n",
       "    }\n",
       "\n",
       "    .dataframe tbody tr th {\n",
       "        vertical-align: top;\n",
       "    }\n",
       "\n",
       "    .dataframe thead th {\n",
       "        text-align: right;\n",
       "    }\n",
       "</style>\n",
       "<table border=\"1\" class=\"dataframe\">\n",
       "  <thead>\n",
       "    <tr style=\"text-align: right;\">\n",
       "      <th></th>\n",
       "      <th>R2</th>\n",
       "      <th>MAE</th>\n",
       "      <th>MSE</th>\n",
       "      <th>RMSE</th>\n",
       "    </tr>\n",
       "  </thead>\n",
       "  <tbody>\n",
       "    <tr>\n",
       "      <th>TestingLinReg 2</th>\n",
       "      <td>0.520874</td>\n",
       "      <td>3.476394</td>\n",
       "      <td>40.820865</td>\n",
       "      <td>6.389121</td>\n",
       "    </tr>\n",
       "    <tr>\n",
       "      <th>TestingRidge 2</th>\n",
       "      <td>0.516700</td>\n",
       "      <td>3.465919</td>\n",
       "      <td>41.176502</td>\n",
       "      <td>6.416892</td>\n",
       "    </tr>\n",
       "    <tr>\n",
       "      <th>TrainingLinReg 2</th>\n",
       "      <td>0.496645</td>\n",
       "      <td>3.581647</td>\n",
       "      <td>46.676999</td>\n",
       "      <td>6.832057</td>\n",
       "    </tr>\n",
       "    <tr>\n",
       "      <th>TrainingRidge 2</th>\n",
       "      <td>0.493299</td>\n",
       "      <td>3.570480</td>\n",
       "      <td>46.987247</td>\n",
       "      <td>6.854724</td>\n",
       "    </tr>\n",
       "    <tr>\n",
       "      <th>TestingLasso 2</th>\n",
       "      <td>0.437808</td>\n",
       "      <td>3.778208</td>\n",
       "      <td>47.897958</td>\n",
       "      <td>6.920835</td>\n",
       "    </tr>\n",
       "    <tr>\n",
       "      <th>TrainingLasso 2</th>\n",
       "      <td>0.416314</td>\n",
       "      <td>3.896836</td>\n",
       "      <td>54.126178</td>\n",
       "      <td>7.357050</td>\n",
       "    </tr>\n",
       "  </tbody>\n",
       "</table>\n",
       "</div>"
      ],
      "text/plain": [
       "                        R2       MAE        MSE      RMSE\n",
       "TestingLinReg 2   0.520874  3.476394  40.820865  6.389121\n",
       "TestingRidge 2    0.516700  3.465919  41.176502  6.416892\n",
       "TrainingLinReg 2  0.496645  3.581647  46.676999  6.832057\n",
       "TrainingRidge 2   0.493299  3.570480  46.987247  6.854724\n",
       "TestingLasso 2    0.437808  3.778208  47.897958  6.920835\n",
       "TrainingLasso 2   0.416314  3.896836  54.126178  7.357050"
      ]
     },
     "execution_count": 98,
     "metadata": {},
     "output_type": "execute_result"
    }
   ],
   "source": [
    "pd.concat([df_LinReg2, df_Lasso2, df_Ridge2], axis=1).T.sort_values('R2', ascending=False)"
   ]
  },
  {
   "cell_type": "markdown",
   "id": "99099868-e380-4abf-ad2d-1c7bfcf0643f",
   "metadata": {},
   "source": [
    "## Optimize 3\n",
    "- Tuning (Manual Tuning)\n",
    "\n",
    "=> Tuning ==> Proses pencarian value terbaik untuk PHyper paramter dari Algortima ML\n",
    "\n",
    "=> Ketika memasukan Value parameter yg ingin diuji, pastikan parameter default sudah ikut di dalamnya"
   ]
  },
  {
   "cell_type": "code",
   "execution_count": 99,
   "id": "83308ad2-2dcc-4308-9040-6993934c0dd7",
   "metadata": {},
   "outputs": [],
   "source": [
    "Alpha = np.arange(0, 3, 0.01)"
   ]
  },
  {
   "cell_type": "code",
   "execution_count": 100,
   "id": "037ebcc8-59bf-44a1-9652-87d081da0528",
   "metadata": {},
   "outputs": [],
   "source": [
    "## Eva Matrix yg digunakan = R2\n",
    "train_r = []\n",
    "test_r = []\n",
    "\n",
    "for i in Alpha:\n",
    "    Model_R = Ridge(alpha=i)\n",
    "    Model_R.fit(X_train_1, y_train_1)\n",
    "    y_pred_tr = Model_R.predict(X_train_1)\n",
    "    R2_train = r2_score(y_train_1, y_pred_tr)\n",
    "    train_r.append(R2_train)\n",
    "    y_pred_test = Model_R.predict(X_test_1)\n",
    "    R2_test = r2_score(y_test_1, y_pred_test)\n",
    "    test_r.append(R2_test)"
   ]
  },
  {
   "cell_type": "code",
   "execution_count": 101,
   "id": "79491514-0868-473b-9ce2-c13c2cfedafc",
   "metadata": {},
   "outputs": [
    {
     "data": {
      "image/png": "[encoded data removed]",
      "text/plain": [
       "<Figure size 576x504 with 1 Axes>"
      ]
     },
     "metadata": {
      "needs_background": "light"
     },
     "output_type": "display_data"
    }
   ],
   "source": [
    "plt.figure(figsize=(8,7))\n",
    "plt.plot(Alpha, train_r, 'r*-')\n",
    "plt.plot(Alpha, test_r, 'b*-')\n",
    "plt.legend(['Train R2', 'Test R2'])\n",
    "plt.show()"
   ]
  },
  {
   "cell_type": "code",
   "execution_count": 102,
   "id": "0030576e-573e-4721-b916-768d72351967",
   "metadata": {},
   "outputs": [],
   "source": [
    "def Manual_Tune(Alpha, X_train, X_test, y_train, y_test, Model):\n",
    "    train_r = []\n",
    "    test_r = []\n",
    "    for i in Alpha:\n",
    "        Model_R = Model(alpha=i)\n",
    "        Model_R.fit(X_train, y_train)\n",
    "        y_pred_tr = Model_R.predict(X_train)\n",
    "        R2_train = r2_score(y_train, y_pred_tr)\n",
    "        train_r.append(R2_train)\n",
    "        y_pred_test = Model_R.predict(X_test)\n",
    "        R2_test = r2_score(y_test, y_pred_test)\n",
    "        test_r.append(R2_test)\n",
    "    return train_r, test_r"
   ]
  },
  {
   "cell_type": "code",
   "execution_count": 103,
   "id": "7b77348e-d7e4-4e6a-8325-339b8c6a7215",
   "metadata": {},
   "outputs": [],
   "source": [
    "Alpha = np.arange(0, 1, 0.01)"
   ]
  },
  {
   "cell_type": "code",
   "execution_count": 104,
   "id": "5209ae9f-9a2d-497d-827a-eb5745c32db0",
   "metadata": {},
   "outputs": [],
   "source": [
    "train_Enet, test_Enet = Manual_Tune(Alpha, X_train_1, X_test_1, y_train_1, y_test_1, ElasticNet)"
   ]
  },
  {
   "cell_type": "code",
   "execution_count": 105,
   "id": "2fd161ee-e11d-486b-803c-eca9fdffdbe0",
   "metadata": {
    "tags": []
   },
   "outputs": [
    {
     "data": {
      "image/png": "[encoded data removed]",
      "text/plain": [
       "<Figure size 576x504 with 1 Axes>"
      ]
     },
     "metadata": {
      "needs_background": "light"
     },
     "output_type": "display_data"
    }
   ],
   "source": [
    "plt.figure(figsize=(8,7))\n",
    "plt.plot(Alpha, train_Enet, 'r*-')\n",
    "plt.plot(Alpha, test_Enet, 'b*-')\n",
    "plt.ylabel('R2')\n",
    "plt.xlabel('Alpha')\n",
    "plt.legend(['Train R2', 'Test R2'])\n",
    "plt.show()"
   ]
  },
  {
   "cell_type": "code",
   "execution_count": 106,
   "id": "45eec350-337b-48ca-b1a6-4131bf415342",
   "metadata": {
    "tags": []
   },
   "outputs": [],
   "source": [
    "### Cek Distribusi Error"
   ]
  },
  {
   "cell_type": "code",
   "execution_count": 107,
   "id": "692bdd18-a1cb-47a7-b4b9-f32ac848846b",
   "metadata": {},
   "outputs": [],
   "source": [
    "df_error_T = X_train_1.copy()"
   ]
  },
  {
   "cell_type": "code",
   "execution_count": 108,
   "id": "cc47a8bb-0a71-4891-ae05-9a3aafc46c2e",
   "metadata": {},
   "outputs": [
    {
     "data": {
      "text/html": [
       "<div>\n",
       "<style scoped>\n",
       "    .dataframe tbody tr th:only-of-type {\n",
       "        vertical-align: middle;\n",
       "    }\n",
       "\n",
       "    .dataframe tbody tr th {\n",
       "        vertical-align: top;\n",
       "    }\n",
       "\n",
       "    .dataframe thead th {\n",
       "        text-align: right;\n",
       "    }\n",
       "</style>\n",
       "<table border=\"1\" class=\"dataframe\">\n",
       "  <thead>\n",
       "    <tr style=\"text-align: right;\">\n",
       "      <th></th>\n",
       "      <th>month</th>\n",
       "      <th>date</th>\n",
       "      <th>day</th>\n",
       "      <th>WeekEnd</th>\n",
       "      <th>0</th>\n",
       "      <th>1</th>\n",
       "      <th>2</th>\n",
       "      <th>3</th>\n",
       "      <th>4</th>\n",
       "      <th>5</th>\n",
       "      <th>...</th>\n",
       "      <th>9</th>\n",
       "      <th>10</th>\n",
       "      <th>11</th>\n",
       "      <th>12</th>\n",
       "      <th>13</th>\n",
       "      <th>14</th>\n",
       "      <th>15</th>\n",
       "      <th>16</th>\n",
       "      <th>17</th>\n",
       "      <th>18</th>\n",
       "    </tr>\n",
       "  </thead>\n",
       "  <tbody>\n",
       "    <tr>\n",
       "      <th>7539</th>\n",
       "      <td>6</td>\n",
       "      <td>14</td>\n",
       "      <td>1</td>\n",
       "      <td>0</td>\n",
       "      <td>-0.541042</td>\n",
       "      <td>-1.441699</td>\n",
       "      <td>1.0</td>\n",
       "      <td>-0.600677</td>\n",
       "      <td>-1.354893</td>\n",
       "      <td>-0.513370</td>\n",
       "      <td>...</td>\n",
       "      <td>-0.623728</td>\n",
       "      <td>-1.087556</td>\n",
       "      <td>-0.513158</td>\n",
       "      <td>-0.546156</td>\n",
       "      <td>-2.541545</td>\n",
       "      <td>-0.515713</td>\n",
       "      <td>-0.197689</td>\n",
       "      <td>-1.336300</td>\n",
       "      <td>-3.192239</td>\n",
       "      <td>-1.0</td>\n",
       "    </tr>\n",
       "    <tr>\n",
       "      <th>578</th>\n",
       "      <td>3</td>\n",
       "      <td>25</td>\n",
       "      <td>3</td>\n",
       "      <td>0</td>\n",
       "      <td>1.486464</td>\n",
       "      <td>-0.885559</td>\n",
       "      <td>1.0</td>\n",
       "      <td>1.621540</td>\n",
       "      <td>-0.305162</td>\n",
       "      <td>1.287266</td>\n",
       "      <td>...</td>\n",
       "      <td>1.650726</td>\n",
       "      <td>0.356569</td>\n",
       "      <td>1.325114</td>\n",
       "      <td>-0.497961</td>\n",
       "      <td>-0.024388</td>\n",
       "      <td>1.276870</td>\n",
       "      <td>-0.197223</td>\n",
       "      <td>-1.031077</td>\n",
       "      <td>-0.509135</td>\n",
       "      <td>-1.0</td>\n",
       "    </tr>\n",
       "    <tr>\n",
       "      <th>8056</th>\n",
       "      <td>4</td>\n",
       "      <td>12</td>\n",
       "      <td>0</td>\n",
       "      <td>0</td>\n",
       "      <td>1.942077</td>\n",
       "      <td>0.740918</td>\n",
       "      <td>1.0</td>\n",
       "      <td>1.821819</td>\n",
       "      <td>2.098370</td>\n",
       "      <td>2.267931</td>\n",
       "      <td>...</td>\n",
       "      <td>1.801995</td>\n",
       "      <td>2.237581</td>\n",
       "      <td>2.180444</td>\n",
       "      <td>1.312440</td>\n",
       "      <td>1.600292</td>\n",
       "      <td>2.296936</td>\n",
       "      <td>-0.129831</td>\n",
       "      <td>0.913063</td>\n",
       "      <td>0.576284</td>\n",
       "      <td>-1.0</td>\n",
       "    </tr>\n",
       "    <tr>\n",
       "      <th>11761</th>\n",
       "      <td>11</td>\n",
       "      <td>17</td>\n",
       "      <td>0</td>\n",
       "      <td>0</td>\n",
       "      <td>-0.541042</td>\n",
       "      <td>-0.260851</td>\n",
       "      <td>1.0</td>\n",
       "      <td>-0.600677</td>\n",
       "      <td>-0.505320</td>\n",
       "      <td>-0.511182</td>\n",
       "      <td>...</td>\n",
       "      <td>-0.623728</td>\n",
       "      <td>-0.617637</td>\n",
       "      <td>-0.511911</td>\n",
       "      <td>-0.458577</td>\n",
       "      <td>-0.193516</td>\n",
       "      <td>-0.511488</td>\n",
       "      <td>-0.191737</td>\n",
       "      <td>-0.221418</td>\n",
       "      <td>0.008661</td>\n",
       "      <td>-1.0</td>\n",
       "    </tr>\n",
       "    <tr>\n",
       "      <th>15531</th>\n",
       "      <td>12</td>\n",
       "      <td>29</td>\n",
       "      <td>5</td>\n",
       "      <td>1</td>\n",
       "      <td>-0.541042</td>\n",
       "      <td>-0.819415</td>\n",
       "      <td>1.0</td>\n",
       "      <td>-0.600677</td>\n",
       "      <td>-0.914748</td>\n",
       "      <td>-0.512641</td>\n",
       "      <td>...</td>\n",
       "      <td>-0.623728</td>\n",
       "      <td>-0.850413</td>\n",
       "      <td>-0.512742</td>\n",
       "      <td>-0.525606</td>\n",
       "      <td>-0.671888</td>\n",
       "      <td>-0.514305</td>\n",
       "      <td>-0.197018</td>\n",
       "      <td>-0.958512</td>\n",
       "      <td>-0.438739</td>\n",
       "      <td>-1.0</td>\n",
       "    </tr>\n",
       "  </tbody>\n",
       "</table>\n",
       "<p>5 rows × 23 columns</p>\n",
       "</div>"
      ],
      "text/plain": [
       "       month  date  day  WeekEnd         0         1    2         3         4  \\\n",
       "7539       6    14    1        0 -0.541042 -1.441699  1.0 -0.600677 -1.354893   \n",
       "578        3    25    3        0  1.486464 -0.885559  1.0  1.621540 -0.305162   \n",
       "8056       4    12    0        0  1.942077  0.740918  1.0  1.821819  2.098370   \n",
       "11761     11    17    0        0 -0.541042 -0.260851  1.0 -0.600677 -0.505320   \n",
       "15531     12    29    5        1 -0.541042 -0.819415  1.0 -0.600677 -0.914748   \n",
       "\n",
       "              5  ...         9        10        11        12        13  \\\n",
       "7539  -0.513370  ... -0.623728 -1.087556 -0.513158 -0.546156 -2.541545   \n",
       "578    1.287266  ...  1.650726  0.356569  1.325114 -0.497961 -0.024388   \n",
       "8056   2.267931  ...  1.801995  2.237581  2.180444  1.312440  1.600292   \n",
       "11761 -0.511182  ... -0.623728 -0.617637 -0.511911 -0.458577 -0.193516   \n",
       "15531 -0.512641  ... -0.623728 -0.850413 -0.512742 -0.525606 -0.671888   \n",
       "\n",
       "             14        15        16        17   18  \n",
       "7539  -0.515713 -0.197689 -1.336300 -3.192239 -1.0  \n",
       "578    1.276870 -0.197223 -1.031077 -0.509135 -1.0  \n",
       "8056   2.296936 -0.129831  0.913063  0.576284 -1.0  \n",
       "11761 -0.511488 -0.191737 -0.221418  0.008661 -1.0  \n",
       "15531 -0.514305 -0.197018 -0.958512 -0.438739 -1.0  \n",
       "\n",
       "[5 rows x 23 columns]"
      ]
     },
     "execution_count": 108,
     "metadata": {},
     "output_type": "execute_result"
    }
   ],
   "source": [
    "df_error_T.head()"
   ]
  },
  {
   "cell_type": "code",
   "execution_count": 109,
   "id": "69b7a100-4428-493a-9f2e-e62f6707be0e",
   "metadata": {},
   "outputs": [],
   "source": [
    "df_error_T['target'] = y_train_1"
   ]
  },
  {
   "cell_type": "code",
   "execution_count": 110,
   "id": "4404401e-9e7c-4a69-8ab4-92538989c214",
   "metadata": {},
   "outputs": [
    {
     "data": {
      "text/html": [
       "<div>\n",
       "<style scoped>\n",
       "    .dataframe tbody tr th:only-of-type {\n",
       "        vertical-align: middle;\n",
       "    }\n",
       "\n",
       "    .dataframe tbody tr th {\n",
       "        vertical-align: top;\n",
       "    }\n",
       "\n",
       "    .dataframe thead th {\n",
       "        text-align: right;\n",
       "    }\n",
       "</style>\n",
       "<table border=\"1\" class=\"dataframe\">\n",
       "  <thead>\n",
       "    <tr style=\"text-align: right;\">\n",
       "      <th></th>\n",
       "      <th>month</th>\n",
       "      <th>date</th>\n",
       "      <th>day</th>\n",
       "      <th>WeekEnd</th>\n",
       "      <th>0</th>\n",
       "      <th>1</th>\n",
       "      <th>2</th>\n",
       "      <th>3</th>\n",
       "      <th>4</th>\n",
       "      <th>5</th>\n",
       "      <th>...</th>\n",
       "      <th>10</th>\n",
       "      <th>11</th>\n",
       "      <th>12</th>\n",
       "      <th>13</th>\n",
       "      <th>14</th>\n",
       "      <th>15</th>\n",
       "      <th>16</th>\n",
       "      <th>17</th>\n",
       "      <th>18</th>\n",
       "      <th>target</th>\n",
       "    </tr>\n",
       "  </thead>\n",
       "  <tbody>\n",
       "    <tr>\n",
       "      <th>7539</th>\n",
       "      <td>6</td>\n",
       "      <td>14</td>\n",
       "      <td>1</td>\n",
       "      <td>0</td>\n",
       "      <td>-0.541042</td>\n",
       "      <td>-1.441699</td>\n",
       "      <td>1.0</td>\n",
       "      <td>-0.600677</td>\n",
       "      <td>-1.354893</td>\n",
       "      <td>-0.513370</td>\n",
       "      <td>...</td>\n",
       "      <td>-1.087556</td>\n",
       "      <td>-0.513158</td>\n",
       "      <td>-0.546156</td>\n",
       "      <td>-2.541545</td>\n",
       "      <td>-0.515713</td>\n",
       "      <td>-0.197689</td>\n",
       "      <td>-1.336300</td>\n",
       "      <td>-3.192239</td>\n",
       "      <td>-1.0</td>\n",
       "      <td>8.9</td>\n",
       "    </tr>\n",
       "    <tr>\n",
       "      <th>578</th>\n",
       "      <td>3</td>\n",
       "      <td>25</td>\n",
       "      <td>3</td>\n",
       "      <td>0</td>\n",
       "      <td>1.486464</td>\n",
       "      <td>-0.885559</td>\n",
       "      <td>1.0</td>\n",
       "      <td>1.621540</td>\n",
       "      <td>-0.305162</td>\n",
       "      <td>1.287266</td>\n",
       "      <td>...</td>\n",
       "      <td>0.356569</td>\n",
       "      <td>1.325114</td>\n",
       "      <td>-0.497961</td>\n",
       "      <td>-0.024388</td>\n",
       "      <td>1.276870</td>\n",
       "      <td>-0.197223</td>\n",
       "      <td>-1.031077</td>\n",
       "      <td>-0.509135</td>\n",
       "      <td>-1.0</td>\n",
       "      <td>3.7</td>\n",
       "    </tr>\n",
       "    <tr>\n",
       "      <th>8056</th>\n",
       "      <td>4</td>\n",
       "      <td>12</td>\n",
       "      <td>0</td>\n",
       "      <td>0</td>\n",
       "      <td>1.942077</td>\n",
       "      <td>0.740918</td>\n",
       "      <td>1.0</td>\n",
       "      <td>1.821819</td>\n",
       "      <td>2.098370</td>\n",
       "      <td>2.267931</td>\n",
       "      <td>...</td>\n",
       "      <td>2.237581</td>\n",
       "      <td>2.180444</td>\n",
       "      <td>1.312440</td>\n",
       "      <td>1.600292</td>\n",
       "      <td>2.296936</td>\n",
       "      <td>-0.129831</td>\n",
       "      <td>0.913063</td>\n",
       "      <td>0.576284</td>\n",
       "      <td>-1.0</td>\n",
       "      <td>8.5</td>\n",
       "    </tr>\n",
       "    <tr>\n",
       "      <th>11761</th>\n",
       "      <td>11</td>\n",
       "      <td>17</td>\n",
       "      <td>0</td>\n",
       "      <td>0</td>\n",
       "      <td>-0.541042</td>\n",
       "      <td>-0.260851</td>\n",
       "      <td>1.0</td>\n",
       "      <td>-0.600677</td>\n",
       "      <td>-0.505320</td>\n",
       "      <td>-0.511182</td>\n",
       "      <td>...</td>\n",
       "      <td>-0.617637</td>\n",
       "      <td>-0.511911</td>\n",
       "      <td>-0.458577</td>\n",
       "      <td>-0.193516</td>\n",
       "      <td>-0.511488</td>\n",
       "      <td>-0.191737</td>\n",
       "      <td>-0.221418</td>\n",
       "      <td>0.008661</td>\n",
       "      <td>-1.0</td>\n",
       "      <td>9.5</td>\n",
       "    </tr>\n",
       "    <tr>\n",
       "      <th>15531</th>\n",
       "      <td>12</td>\n",
       "      <td>29</td>\n",
       "      <td>5</td>\n",
       "      <td>1</td>\n",
       "      <td>-0.541042</td>\n",
       "      <td>-0.819415</td>\n",
       "      <td>1.0</td>\n",
       "      <td>-0.600677</td>\n",
       "      <td>-0.914748</td>\n",
       "      <td>-0.512641</td>\n",
       "      <td>...</td>\n",
       "      <td>-0.850413</td>\n",
       "      <td>-0.512742</td>\n",
       "      <td>-0.525606</td>\n",
       "      <td>-0.671888</td>\n",
       "      <td>-0.514305</td>\n",
       "      <td>-0.197018</td>\n",
       "      <td>-0.958512</td>\n",
       "      <td>-0.438739</td>\n",
       "      <td>-1.0</td>\n",
       "      <td>4.5</td>\n",
       "    </tr>\n",
       "  </tbody>\n",
       "</table>\n",
       "<p>5 rows × 24 columns</p>\n",
       "</div>"
      ],
      "text/plain": [
       "       month  date  day  WeekEnd         0         1    2         3         4  \\\n",
       "7539       6    14    1        0 -0.541042 -1.441699  1.0 -0.600677 -1.354893   \n",
       "578        3    25    3        0  1.486464 -0.885559  1.0  1.621540 -0.305162   \n",
       "8056       4    12    0        0  1.942077  0.740918  1.0  1.821819  2.098370   \n",
       "11761     11    17    0        0 -0.541042 -0.260851  1.0 -0.600677 -0.505320   \n",
       "15531     12    29    5        1 -0.541042 -0.819415  1.0 -0.600677 -0.914748   \n",
       "\n",
       "              5  ...        10        11        12        13        14  \\\n",
       "7539  -0.513370  ... -1.087556 -0.513158 -0.546156 -2.541545 -0.515713   \n",
       "578    1.287266  ...  0.356569  1.325114 -0.497961 -0.024388  1.276870   \n",
       "8056   2.267931  ...  2.237581  2.180444  1.312440  1.600292  2.296936   \n",
       "11761 -0.511182  ... -0.617637 -0.511911 -0.458577 -0.193516 -0.511488   \n",
       "15531 -0.512641  ... -0.850413 -0.512742 -0.525606 -0.671888 -0.514305   \n",
       "\n",
       "             15        16        17   18  target  \n",
       "7539  -0.197689 -1.336300 -3.192239 -1.0     8.9  \n",
       "578   -0.197223 -1.031077 -0.509135 -1.0     3.7  \n",
       "8056  -0.129831  0.913063  0.576284 -1.0     8.5  \n",
       "11761 -0.191737 -0.221418  0.008661 -1.0     9.5  \n",
       "15531 -0.197018 -0.958512 -0.438739 -1.0     4.5  \n",
       "\n",
       "[5 rows x 24 columns]"
      ]
     },
     "execution_count": 110,
     "metadata": {},
     "output_type": "execute_result"
    }
   ],
   "source": [
    "df_error_T.head()"
   ]
  },
  {
   "cell_type": "code",
   "execution_count": 111,
   "id": "66b07ab4-ec1c-4899-9b9f-2a6489d924eb",
   "metadata": {},
   "outputs": [
    {
     "data": {
      "text/plain": [
       "0.5204510451882848"
      ]
     },
     "execution_count": 111,
     "metadata": {},
     "output_type": "execute_result"
    }
   ],
   "source": [
    "np.max(test_Enet)"
   ]
  },
  {
   "cell_type": "code",
   "execution_count": 112,
   "id": "0ce5a224-e905-421d-870c-ea20e00e3efe",
   "metadata": {},
   "outputs": [
    {
     "data": {
      "text/plain": [
       "0.5208519447596331"
      ]
     },
     "execution_count": 112,
     "metadata": {},
     "output_type": "execute_result"
    }
   ],
   "source": [
    "np.max(test_r)"
   ]
  },
  {
   "cell_type": "code",
   "execution_count": 113,
   "id": "5b795def-4f22-4590-a88c-b79f64a136e1",
   "metadata": {},
   "outputs": [
    {
     "data": {
      "text/plain": [
       "0.0"
      ]
     },
     "execution_count": 113,
     "metadata": {},
     "output_type": "execute_result"
    }
   ],
   "source": [
    "Alpha [np.argmax(test_r)]"
   ]
  },
  {
   "cell_type": "code",
   "execution_count": 114,
   "id": "d6526bc8-eab9-4756-a9c7-d6ab6d0c034b",
   "metadata": {},
   "outputs": [],
   "source": [
    "Model_R = Ridge(alpha=0.01)"
   ]
  },
  {
   "cell_type": "code",
   "execution_count": 115,
   "id": "9ede78f9-f7ea-4514-be3c-0e4d8a757ea7",
   "metadata": {},
   "outputs": [
    {
     "data": {
      "text/plain": [
       "Ridge(alpha=0.01)"
      ]
     },
     "execution_count": 115,
     "metadata": {},
     "output_type": "execute_result"
    }
   ],
   "source": [
    "Model_R.fit(X_train_1, y_train_1)"
   ]
  },
  {
   "cell_type": "code",
   "execution_count": 116,
   "id": "d8f75f39-c394-47a4-8260-8ec19a87495c",
   "metadata": {},
   "outputs": [],
   "source": [
    "pred_train = Model_R.predict(X_train_1)"
   ]
  },
  {
   "cell_type": "code",
   "execution_count": 117,
   "id": "af2a3295-4342-4273-a58f-175f9e2a0452",
   "metadata": {},
   "outputs": [],
   "source": [
    "df_error_T['prediksi'] = pred_train"
   ]
  },
  {
   "cell_type": "code",
   "execution_count": 118,
   "id": "35303507-fb59-4c20-baa2-dcc08fb5850d",
   "metadata": {},
   "outputs": [],
   "source": [
    "df_error_T['Error'] = abs(df_error_T['target'] - df_error_T['prediksi'])"
   ]
  },
  {
   "cell_type": "code",
   "execution_count": 119,
   "id": "acaf1a27-1997-41bd-bea3-a7abe0e592ce",
   "metadata": {
    "collapsed": true,
    "jupyter": {
     "outputs_hidden": true,
     "source_hidden": true
    }
   },
   "outputs": [
    {
     "data": {
      "image/png": "[encoded data removed]",
      "text/plain": [
       "<Figure size 432x288 with 1 Axes>"
      ]
     },
     "metadata": {
      "needs_background": "light"
     },
     "output_type": "display_data"
    }
   ],
   "source": [
    "plt.hist(df_error_T['Error'])\n",
    "plt.xlabel('Error')\n",
    "plt.ylabel('Freq.')\n",
    "plt.show()"
   ]
  },
  {
   "cell_type": "code",
   "execution_count": 120,
   "id": "aeb194f4-559a-462d-9fe4-8c613e0b3981",
   "metadata": {},
   "outputs": [
    {
     "data": {
      "image/png": "[encoded data removed]",
      "text/plain": [
       "<Figure size 432x288 with 1 Axes>"
      ]
     },
     "metadata": {
      "needs_background": "light"
     },
     "output_type": "display_data"
    }
   ],
   "source": [
    "sns.distplot(df_error_T['Error'])\n",
    "plt.show()"
   ]
  },
  {
   "cell_type": "code",
   "execution_count": 121,
   "id": "e28ec6c4-d5c1-430d-9cbd-7d243b6e6b9f",
   "metadata": {},
   "outputs": [
    {
     "data": {
      "image/png": "[encoded data removed]",
      "text/plain": [
       "<Figure size 432x288 with 1 Axes>"
      ]
     },
     "metadata": {
      "needs_background": "light"
     },
     "output_type": "display_data"
    }
   ],
   "source": [
    "plt.scatter(df_error_T['target'], df_error_T['Error'])\n",
    "plt.show()"
   ]
  },
  {
   "cell_type": "code",
   "execution_count": 122,
   "id": "fd2bc1f9-a0b1-46cf-8669-0c36c660bd90",
   "metadata": {},
   "outputs": [
    {
     "data": {
      "text/html": [
       "<div>\n",
       "<style scoped>\n",
       "    .dataframe tbody tr th:only-of-type {\n",
       "        vertical-align: middle;\n",
       "    }\n",
       "\n",
       "    .dataframe tbody tr th {\n",
       "        vertical-align: top;\n",
       "    }\n",
       "\n",
       "    .dataframe thead th {\n",
       "        text-align: right;\n",
       "    }\n",
       "</style>\n",
       "<table border=\"1\" class=\"dataframe\">\n",
       "  <thead>\n",
       "    <tr style=\"text-align: right;\">\n",
       "      <th></th>\n",
       "      <th>month</th>\n",
       "      <th>date</th>\n",
       "      <th>day</th>\n",
       "      <th>WeekEnd</th>\n",
       "      <th>0</th>\n",
       "      <th>1</th>\n",
       "      <th>2</th>\n",
       "      <th>3</th>\n",
       "      <th>4</th>\n",
       "      <th>5</th>\n",
       "      <th>...</th>\n",
       "      <th>12</th>\n",
       "      <th>13</th>\n",
       "      <th>14</th>\n",
       "      <th>15</th>\n",
       "      <th>16</th>\n",
       "      <th>17</th>\n",
       "      <th>18</th>\n",
       "      <th>target</th>\n",
       "      <th>prediksi</th>\n",
       "      <th>Error</th>\n",
       "    </tr>\n",
       "  </thead>\n",
       "  <tbody>\n",
       "    <tr>\n",
       "      <th>1335</th>\n",
       "      <td>1</td>\n",
       "      <td>16</td>\n",
       "      <td>2</td>\n",
       "      <td>0</td>\n",
       "      <td>-0.541042</td>\n",
       "      <td>-1.441699</td>\n",
       "      <td>1.0</td>\n",
       "      <td>-0.600677</td>\n",
       "      <td>-1.354893</td>\n",
       "      <td>-0.511911</td>\n",
       "      <td>...</td>\n",
       "      <td>-0.546156</td>\n",
       "      <td>-2.541545</td>\n",
       "      <td>-0.512896</td>\n",
       "      <td>-0.197689</td>\n",
       "      <td>-1.336300</td>\n",
       "      <td>-3.192239</td>\n",
       "      <td>-1.0</td>\n",
       "      <td>180.00</td>\n",
       "      <td>12.491328</td>\n",
       "      <td>167.508672</td>\n",
       "    </tr>\n",
       "    <tr>\n",
       "      <th>1483</th>\n",
       "      <td>8</td>\n",
       "      <td>7</td>\n",
       "      <td>4</td>\n",
       "      <td>0</td>\n",
       "      <td>-0.541042</td>\n",
       "      <td>-1.428820</td>\n",
       "      <td>1.0</td>\n",
       "      <td>-0.600677</td>\n",
       "      <td>-1.345933</td>\n",
       "      <td>-0.514831</td>\n",
       "      <td>...</td>\n",
       "      <td>-0.546149</td>\n",
       "      <td>-2.354648</td>\n",
       "      <td>-0.518532</td>\n",
       "      <td>-0.197689</td>\n",
       "      <td>-1.336140</td>\n",
       "      <td>-2.074657</td>\n",
       "      <td>-1.0</td>\n",
       "      <td>165.00</td>\n",
       "      <td>8.816779</td>\n",
       "      <td>156.183221</td>\n",
       "    </tr>\n",
       "    <tr>\n",
       "      <th>6630</th>\n",
       "      <td>5</td>\n",
       "      <td>16</td>\n",
       "      <td>4</td>\n",
       "      <td>0</td>\n",
       "      <td>-0.541042</td>\n",
       "      <td>-1.441699</td>\n",
       "      <td>1.0</td>\n",
       "      <td>-0.600677</td>\n",
       "      <td>-1.354893</td>\n",
       "      <td>-0.511182</td>\n",
       "      <td>...</td>\n",
       "      <td>-0.546156</td>\n",
       "      <td>-2.541545</td>\n",
       "      <td>-0.511488</td>\n",
       "      <td>-0.197689</td>\n",
       "      <td>-1.336300</td>\n",
       "      <td>-3.192239</td>\n",
       "      <td>-1.0</td>\n",
       "      <td>128.83</td>\n",
       "      <td>13.594170</td>\n",
       "      <td>115.235830</td>\n",
       "    </tr>\n",
       "    <tr>\n",
       "      <th>14142</th>\n",
       "      <td>12</td>\n",
       "      <td>12</td>\n",
       "      <td>4</td>\n",
       "      <td>0</td>\n",
       "      <td>-0.541042</td>\n",
       "      <td>0.647574</td>\n",
       "      <td>1.0</td>\n",
       "      <td>-0.600677</td>\n",
       "      <td>0.198599</td>\n",
       "      <td>-0.511182</td>\n",
       "      <td>...</td>\n",
       "      <td>-0.166273</td>\n",
       "      <td>0.327881</td>\n",
       "      <td>-0.511488</td>\n",
       "      <td>-0.141869</td>\n",
       "      <td>0.830928</td>\n",
       "      <td>0.530351</td>\n",
       "      <td>-1.0</td>\n",
       "      <td>108.00</td>\n",
       "      <td>14.225824</td>\n",
       "      <td>93.774176</td>\n",
       "    </tr>\n",
       "    <tr>\n",
       "      <th>12915</th>\n",
       "      <td>9</td>\n",
       "      <td>7</td>\n",
       "      <td>2</td>\n",
       "      <td>0</td>\n",
       "      <td>-0.541042</td>\n",
       "      <td>-1.441699</td>\n",
       "      <td>1.0</td>\n",
       "      <td>-0.600677</td>\n",
       "      <td>-1.354893</td>\n",
       "      <td>-0.513370</td>\n",
       "      <td>...</td>\n",
       "      <td>-0.546156</td>\n",
       "      <td>-2.541545</td>\n",
       "      <td>-0.515713</td>\n",
       "      <td>-0.197689</td>\n",
       "      <td>-1.336300</td>\n",
       "      <td>-3.192239</td>\n",
       "      <td>-1.0</td>\n",
       "      <td>96.00</td>\n",
       "      <td>12.137221</td>\n",
       "      <td>83.862779</td>\n",
       "    </tr>\n",
       "  </tbody>\n",
       "</table>\n",
       "<p>5 rows × 26 columns</p>\n",
       "</div>"
      ],
      "text/plain": [
       "       month  date  day  WeekEnd         0         1    2         3         4  \\\n",
       "1335       1    16    2        0 -0.541042 -1.441699  1.0 -0.600677 -1.354893   \n",
       "1483       8     7    4        0 -0.541042 -1.428820  1.0 -0.600677 -1.345933   \n",
       "6630       5    16    4        0 -0.541042 -1.441699  1.0 -0.600677 -1.354893   \n",
       "14142     12    12    4        0 -0.541042  0.647574  1.0 -0.600677  0.198599   \n",
       "12915      9     7    2        0 -0.541042 -1.441699  1.0 -0.600677 -1.354893   \n",
       "\n",
       "              5  ...        12        13        14        15        16  \\\n",
       "1335  -0.511911  ... -0.546156 -2.541545 -0.512896 -0.197689 -1.336300   \n",
       "1483  -0.514831  ... -0.546149 -2.354648 -0.518532 -0.197689 -1.336140   \n",
       "6630  -0.511182  ... -0.546156 -2.541545 -0.511488 -0.197689 -1.336300   \n",
       "14142 -0.511182  ... -0.166273  0.327881 -0.511488 -0.141869  0.830928   \n",
       "12915 -0.513370  ... -0.546156 -2.541545 -0.515713 -0.197689 -1.336300   \n",
       "\n",
       "             17   18  target   prediksi       Error  \n",
       "1335  -3.192239 -1.0  180.00  12.491328  167.508672  \n",
       "1483  -2.074657 -1.0  165.00   8.816779  156.183221  \n",
       "6630  -3.192239 -1.0  128.83  13.594170  115.235830  \n",
       "14142  0.530351 -1.0  108.00  14.225824   93.774176  \n",
       "12915 -3.192239 -1.0   96.00  12.137221   83.862779  \n",
       "\n",
       "[5 rows x 26 columns]"
      ]
     },
     "execution_count": 122,
     "metadata": {},
     "output_type": "execute_result"
    }
   ],
   "source": [
    "df_error_T[df_error_T['Error'] > 75].sort_values('Error', ascending=False)"
   ]
  },
  {
   "cell_type": "code",
   "execution_count": null,
   "id": "be4960b7-4d6b-4d6a-a650-45485abb931d",
   "metadata": {},
   "outputs": [],
   "source": []
  }
 ],
 "metadata": {
  "kernelspec": {
   "display_name": "Python 3 (ipykernel)",
   "language": "python",
   "name": "python3"
  },
  "language_info": {
   "codemirror_mode": {
    "name": "ipython",
    "version": 3
   },
   "file_extension": ".py",
   "mimetype": "text/x-python",
   "name": "python",
   "nbconvert_exporter": "python",
   "pygments_lexer": "ipython3",
   "version": "3.9.7"
  }
 },
 "nbformat": 4,
 "nbformat_minor": 5
}
